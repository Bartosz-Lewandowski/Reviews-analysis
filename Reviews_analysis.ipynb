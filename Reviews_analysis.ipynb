{
 "cells": [
  {
   "cell_type": "markdown",
   "metadata": {},
   "source": [
    "# Interview task for Nokia - Bartosz Lewandowski\n",
    "----------------------------------\n",
    "## I made it in jupyter notebook to show my thinking process \n",
    "## First I loaded necessary libraries "
   ]
  },
  {
   "cell_type": "code",
   "execution_count": 1,
   "metadata": {},
   "outputs": [],
   "source": [
    "import numpy as np\n",
    "import pandas as pd\n",
    "import pandas_profiling \n",
    "import csv\n",
    "import string\n",
    "import seaborn as sns\n",
    "\n",
    "from copy import deepcopy\n",
    "\n",
    "from datetime import datetime\n",
    "\n",
    "from gensim.test.utils import common_texts\n",
    "from gensim.models.doc2vec import Doc2Vec, TaggedDocument\n",
    "\n",
    "from matplotlib import pyplot as plt\n",
    "\n",
    "from mlxtend.frequent_patterns import apriori, association_rules\n",
    "\n",
    "from nltk.sentiment.vader import SentimentIntensityAnalyzer\n",
    "from nltk.corpus import wordnet\n",
    "from nltk import pos_tag\n",
    "from nltk.corpus import stopwords\n",
    "from nltk.tokenize import WhitespaceTokenizer\n",
    "from nltk.stem import WordNetLemmatizer\n",
    "\n",
    "from sklearn.ensemble import RandomForestClassifier\n",
    "from sklearn.feature_extraction.text import TfidfVectorizer\n",
    "from sklearn.model_selection import train_test_split\n",
    "from sklearn.metrics import roc_curve, auc, roc_auc_score\n",
    "\n",
    "from wordcloud import WordCloud"
   ]
  },
  {
   "cell_type": "markdown",
   "metadata": {},
   "source": [
    "# Reading the data"
   ]
  },
  {
   "cell_type": "markdown",
   "metadata": {},
   "source": [
    "## I opened file and \"read\" it as list without empty lists"
   ]
  },
  {
   "cell_type": "code",
   "execution_count": 2,
   "metadata": {},
   "outputs": [],
   "source": [
    "lines = []\n",
    "with open('Cell_Phones_&_Accessories.txt', newline = '') as sales:\n",
    "    lines = [sale for sale in csv.reader(sales, delimiter='\\n') if sale!=[]]"
   ]
  },
  {
   "cell_type": "markdown",
   "metadata": {},
   "source": [
    "## I have created new list where I splited everything to get clear information without column name"
   ]
  },
  {
   "cell_type": "code",
   "execution_count": 3,
   "metadata": {},
   "outputs": [],
   "source": [
    "tmp = []\n",
    "for i in lines:\n",
    "    for j in i:\n",
    "        tmp.append(j.split(': '))\n",
    "        "
   ]
  },
  {
   "cell_type": "markdown",
   "metadata": {},
   "source": [
    "## I assigned it to lists"
   ]
  },
  {
   "cell_type": "code",
   "execution_count": 4,
   "metadata": {},
   "outputs": [],
   "source": [
    "length_tmp = len(tmp)\n",
    "productid =[tmp[i][1] for i in range(0,int(length_tmp),10)]\n",
    "title =[tmp[i+1][1] for i in range(0,int(length_tmp),10)]\n",
    "price=[tmp[i+2][1] for i in range(0,int(length_tmp),10)]\n",
    "userID=[tmp[i+3][1] for i in range(0,int(length_tmp),10)]\n",
    "profileName =[tmp[i+4][1] for i in range(0,int(length_tmp),10)]\n",
    "helpfulness = [tmp[i+5][1] for i in range(0,int(length_tmp),10)]\n",
    "score = [tmp[i+6][1] for i in range(0,int(length_tmp),10)]\n",
    "time = [tmp[i+7][1] for i in range(0,int(length_tmp),10)]\n",
    "summary = [tmp[i+8][1] for i in range(0,int(length_tmp),10)]\n",
    "text = [tmp[i+9][1] for i in range(0,int(length_tmp),10)]"
   ]
  },
  {
   "cell_type": "code",
   "execution_count": 5,
   "metadata": {},
   "outputs": [],
   "source": [
    "del(tmp,length_tmp)"
   ]
  },
  {
   "cell_type": "markdown",
   "metadata": {},
   "source": [
    "## Now I have clear data frame on which I can work more efficient than on clear text. "
   ]
  },
  {
   "cell_type": "code",
   "execution_count": 6,
   "metadata": {},
   "outputs": [],
   "source": [
    "df = pd.DataFrame({\n",
    "    'ProductID':productid,\n",
    "    'Product_Name':title,\n",
    "    'Price':price,\n",
    "    'userID':userID,\n",
    "    'User_Name':profileName,\n",
    "    'helpfulness':helpfulness,\n",
    "    'rate':score,\n",
    "    'time':time,\n",
    "    'summary':summary,\n",
    "    'text':text\n",
    "})"
   ]
  },
  {
   "cell_type": "code",
   "execution_count": 7,
   "metadata": {},
   "outputs": [
    {
     "data": {
      "text/html": [
       "<div>\n",
       "<style scoped>\n",
       "    .dataframe tbody tr th:only-of-type {\n",
       "        vertical-align: middle;\n",
       "    }\n",
       "\n",
       "    .dataframe tbody tr th {\n",
       "        vertical-align: top;\n",
       "    }\n",
       "\n",
       "    .dataframe thead th {\n",
       "        text-align: right;\n",
       "    }\n",
       "</style>\n",
       "<table border=\"1\" class=\"dataframe\">\n",
       "  <thead>\n",
       "    <tr style=\"text-align: right;\">\n",
       "      <th></th>\n",
       "      <th>ProductID</th>\n",
       "      <th>Product_Name</th>\n",
       "      <th>Price</th>\n",
       "      <th>userID</th>\n",
       "      <th>User_Name</th>\n",
       "      <th>helpfulness</th>\n",
       "      <th>rate</th>\n",
       "      <th>time</th>\n",
       "      <th>summary</th>\n",
       "      <th>text</th>\n",
       "    </tr>\n",
       "  </thead>\n",
       "  <tbody>\n",
       "    <tr>\n",
       "      <th>0</th>\n",
       "      <td>B000JVER7W</td>\n",
       "      <td>Mobile Action MA730 Handset Manager - Bluetoot...</td>\n",
       "      <td>unknown</td>\n",
       "      <td>A1RXYH9ROBAKEZ</td>\n",
       "      <td>A. Igoe</td>\n",
       "      <td>0/0</td>\n",
       "      <td>1.0</td>\n",
       "      <td>1233360000</td>\n",
       "      <td>Don't buy!</td>\n",
       "      <td>First of all, the company took my money and se...</td>\n",
       "    </tr>\n",
       "    <tr>\n",
       "      <th>1</th>\n",
       "      <td>B000JVER7W</td>\n",
       "      <td>Mobile Action MA730 Handset Manager - Bluetoot...</td>\n",
       "      <td>unknown</td>\n",
       "      <td>A7L6E1KSJTAJ6</td>\n",
       "      <td>Steven Martz</td>\n",
       "      <td>0/0</td>\n",
       "      <td>5.0</td>\n",
       "      <td>1191456000</td>\n",
       "      <td>Mobile Action Bluetooth Mobile Phone Tool Soft...</td>\n",
       "      <td>Great product- tried others and this is a ten ...</td>\n",
       "    </tr>\n",
       "    <tr>\n",
       "      <th>2</th>\n",
       "      <td>B000JVER7W</td>\n",
       "      <td>Mobile Action MA730 Handset Manager - Bluetoot...</td>\n",
       "      <td>unknown</td>\n",
       "      <td>A2NOQQ7I6PU7CW</td>\n",
       "      <td>Daniel M. Johnson \"rocknbluesharp\"</td>\n",
       "      <td>0/0</td>\n",
       "      <td>4.0</td>\n",
       "      <td>1186704000</td>\n",
       "      <td>good</td>\n",
       "      <td>works real good....a little hard to set up...w...</td>\n",
       "    </tr>\n",
       "    <tr>\n",
       "      <th>3</th>\n",
       "      <td>B000924R5I</td>\n",
       "      <td>USB Data Cable for Sony-Ericsson Z600, Z500, Z...</td>\n",
       "      <td>unknown</td>\n",
       "      <td>A29Q0CLOF0U8BN</td>\n",
       "      <td>E. Owens</td>\n",
       "      <td>4/5</td>\n",
       "      <td>4.0</td>\n",
       "      <td>1146182400</td>\n",
       "      <td>No instructions included...</td>\n",
       "      <td>The price was right for this cable ($11.95+$4....</td>\n",
       "    </tr>\n",
       "    <tr>\n",
       "      <th>4</th>\n",
       "      <td>B000924R5I</td>\n",
       "      <td>USB Data Cable for Sony-Ericsson Z600, Z500, Z...</td>\n",
       "      <td>unknown</td>\n",
       "      <td>ANNHJND2MHUI3</td>\n",
       "      <td>Isaac Salas \"=CRBF=gB^link\"</td>\n",
       "      <td>0/0</td>\n",
       "      <td>1.0</td>\n",
       "      <td>1173657600</td>\n",
       "      <td>NOT A DATA CABLE</td>\n",
       "      <td>this is NOT a DATA CABLE this is only a USB ch...</td>\n",
       "    </tr>\n",
       "    <tr>\n",
       "      <th>5</th>\n",
       "      <td>B000924R5I</td>\n",
       "      <td>USB Data Cable for Sony-Ericsson Z600, Z500, Z...</td>\n",
       "      <td>unknown</td>\n",
       "      <td>A2DP6EPPQAIL3C</td>\n",
       "      <td>David M. Cantrell</td>\n",
       "      <td>0/0</td>\n",
       "      <td>4.0</td>\n",
       "      <td>1171584000</td>\n",
       "      <td>works as expected</td>\n",
       "      <td>There's not much to say about a data cable -- ...</td>\n",
       "    </tr>\n",
       "    <tr>\n",
       "      <th>6</th>\n",
       "      <td>B000924R5I</td>\n",
       "      <td>USB Data Cable for Sony-Ericsson Z600, Z500, Z...</td>\n",
       "      <td>unknown</td>\n",
       "      <td>A254KU5H615J3N</td>\n",
       "      <td>J. S. Gaviota</td>\n",
       "      <td>0/0</td>\n",
       "      <td>5.0</td>\n",
       "      <td>1142467200</td>\n",
       "      <td>Excellent product!</td>\n",
       "      <td>I have a Sony Ericsson K700i, which doesn't se...</td>\n",
       "    </tr>\n",
       "    <tr>\n",
       "      <th>7</th>\n",
       "      <td>B000924R5I</td>\n",
       "      <td>USB Data Cable for Sony-Ericsson Z600, Z500, Z...</td>\n",
       "      <td>unknown</td>\n",
       "      <td>ACVTUAQ4RUGK</td>\n",
       "      <td>Parathalyn \"Parathalyn\"</td>\n",
       "      <td>0/0</td>\n",
       "      <td>1.0</td>\n",
       "      <td>1133654400</td>\n",
       "      <td>Beware 3rd Party Cables &amp; Sony Ericsson Tech S...</td>\n",
       "      <td>Well, it technically does what it is supposed ...</td>\n",
       "    </tr>\n",
       "    <tr>\n",
       "      <th>8</th>\n",
       "      <td>B000924R5I</td>\n",
       "      <td>USB Data Cable for Sony-Ericsson Z600, Z500, Z...</td>\n",
       "      <td>unknown</td>\n",
       "      <td>A34D9XVHS261KT</td>\n",
       "      <td>D. Cram</td>\n",
       "      <td>1/2</td>\n",
       "      <td>3.0</td>\n",
       "      <td>1135814400</td>\n",
       "      <td>Undecided on product, but Electro Island is A+...</td>\n",
       "      <td>I currently have this item for my S/E z500a ph...</td>\n",
       "    </tr>\n",
       "    <tr>\n",
       "      <th>9</th>\n",
       "      <td>B000924R5I</td>\n",
       "      <td>USB Data Cable for Sony-Ericsson Z600, Z500, Z...</td>\n",
       "      <td>unknown</td>\n",
       "      <td>A3Q3B32YUDC3IK</td>\n",
       "      <td>Jonathan C. Phillips \"Chris\"</td>\n",
       "      <td>6/10</td>\n",
       "      <td>4.0</td>\n",
       "      <td>1126915200</td>\n",
       "      <td>Good cable to have</td>\n",
       "      <td>This is a good cable to have. You don't need t...</td>\n",
       "    </tr>\n",
       "  </tbody>\n",
       "</table>\n",
       "</div>"
      ],
      "text/plain": [
       "    ProductID                                       Product_Name    Price  \\\n",
       "0  B000JVER7W  Mobile Action MA730 Handset Manager - Bluetoot...  unknown   \n",
       "1  B000JVER7W  Mobile Action MA730 Handset Manager - Bluetoot...  unknown   \n",
       "2  B000JVER7W  Mobile Action MA730 Handset Manager - Bluetoot...  unknown   \n",
       "3  B000924R5I  USB Data Cable for Sony-Ericsson Z600, Z500, Z...  unknown   \n",
       "4  B000924R5I  USB Data Cable for Sony-Ericsson Z600, Z500, Z...  unknown   \n",
       "5  B000924R5I  USB Data Cable for Sony-Ericsson Z600, Z500, Z...  unknown   \n",
       "6  B000924R5I  USB Data Cable for Sony-Ericsson Z600, Z500, Z...  unknown   \n",
       "7  B000924R5I  USB Data Cable for Sony-Ericsson Z600, Z500, Z...  unknown   \n",
       "8  B000924R5I  USB Data Cable for Sony-Ericsson Z600, Z500, Z...  unknown   \n",
       "9  B000924R5I  USB Data Cable for Sony-Ericsson Z600, Z500, Z...  unknown   \n",
       "\n",
       "           userID                           User_Name helpfulness rate  \\\n",
       "0  A1RXYH9ROBAKEZ                             A. Igoe         0/0  1.0   \n",
       "1   A7L6E1KSJTAJ6                        Steven Martz         0/0  5.0   \n",
       "2  A2NOQQ7I6PU7CW  Daniel M. Johnson \"rocknbluesharp\"         0/0  4.0   \n",
       "3  A29Q0CLOF0U8BN                            E. Owens         4/5  4.0   \n",
       "4   ANNHJND2MHUI3         Isaac Salas \"=CRBF=gB^link\"         0/0  1.0   \n",
       "5  A2DP6EPPQAIL3C                   David M. Cantrell         0/0  4.0   \n",
       "6  A254KU5H615J3N                       J. S. Gaviota         0/0  5.0   \n",
       "7    ACVTUAQ4RUGK             Parathalyn \"Parathalyn\"         0/0  1.0   \n",
       "8  A34D9XVHS261KT                             D. Cram         1/2  3.0   \n",
       "9  A3Q3B32YUDC3IK        Jonathan C. Phillips \"Chris\"        6/10  4.0   \n",
       "\n",
       "         time                                            summary  \\\n",
       "0  1233360000                                         Don't buy!   \n",
       "1  1191456000  Mobile Action Bluetooth Mobile Phone Tool Soft...   \n",
       "2  1186704000                                               good   \n",
       "3  1146182400                        No instructions included...   \n",
       "4  1173657600                                   NOT A DATA CABLE   \n",
       "5  1171584000                                  works as expected   \n",
       "6  1142467200                                 Excellent product!   \n",
       "7  1133654400  Beware 3rd Party Cables & Sony Ericsson Tech S...   \n",
       "8  1135814400  Undecided on product, but Electro Island is A+...   \n",
       "9  1126915200                                 Good cable to have   \n",
       "\n",
       "                                                text  \n",
       "0  First of all, the company took my money and se...  \n",
       "1  Great product- tried others and this is a ten ...  \n",
       "2  works real good....a little hard to set up...w...  \n",
       "3  The price was right for this cable ($11.95+$4....  \n",
       "4  this is NOT a DATA CABLE this is only a USB ch...  \n",
       "5  There's not much to say about a data cable -- ...  \n",
       "6  I have a Sony Ericsson K700i, which doesn't se...  \n",
       "7  Well, it technically does what it is supposed ...  \n",
       "8  I currently have this item for my S/E z500a ph...  \n",
       "9  This is a good cable to have. You don't need t...  "
      ]
     },
     "execution_count": 7,
     "metadata": {},
     "output_type": "execute_result"
    }
   ],
   "source": [
    "df.head(10)"
   ]
  },
  {
   "cell_type": "code",
   "execution_count": 8,
   "metadata": {},
   "outputs": [
    {
     "name": "stdout",
     "output_type": "stream",
     "text": [
      "<class 'pandas.core.frame.DataFrame'>\n",
      "RangeIndex: 78930 entries, 0 to 78929\n",
      "Data columns (total 10 columns):\n",
      "ProductID       78930 non-null object\n",
      "Product_Name    78930 non-null object\n",
      "Price           78930 non-null object\n",
      "userID          78930 non-null object\n",
      "User_Name       78930 non-null object\n",
      "helpfulness     78930 non-null object\n",
      "rate            78930 non-null object\n",
      "time            78930 non-null object\n",
      "summary         78930 non-null object\n",
      "text            78930 non-null object\n",
      "dtypes: object(10)\n",
      "memory usage: 6.0+ MB\n"
     ]
    }
   ],
   "source": [
    "df.info()"
   ]
  },
  {
   "cell_type": "markdown",
   "metadata": {},
   "source": [
    "# Cleaning data"
   ]
  },
  {
   "cell_type": "markdown",
   "metadata": {},
   "source": [
    "## I've assigned 0 to unknow to change type of columns to float, and then 0 as N/A\n"
   ]
  },
  {
   "cell_type": "code",
   "execution_count": 9,
   "metadata": {},
   "outputs": [],
   "source": [
    "df = df.replace('unknown',0)"
   ]
  },
  {
   "cell_type": "code",
   "execution_count": 10,
   "metadata": {},
   "outputs": [],
   "source": [
    "df = df.astype({'Price':'float64',\n",
    "          'rate': 'float64',\n",
    "          })"
   ]
  },
  {
   "cell_type": "code",
   "execution_count": 11,
   "metadata": {},
   "outputs": [],
   "source": [
    "df = df.replace(0.0,np.NaN)"
   ]
  },
  {
   "cell_type": "code",
   "execution_count": 12,
   "metadata": {},
   "outputs": [
    {
     "name": "stdout",
     "output_type": "stream",
     "text": [
      "<class 'pandas.core.frame.DataFrame'>\n",
      "RangeIndex: 78930 entries, 0 to 78929\n",
      "Data columns (total 10 columns):\n",
      "ProductID       78930 non-null object\n",
      "Product_Name    78930 non-null object\n",
      "Price           35643 non-null float64\n",
      "userID          76654 non-null object\n",
      "User_Name       76654 non-null object\n",
      "helpfulness     78930 non-null object\n",
      "rate            78930 non-null float64\n",
      "time            78930 non-null object\n",
      "summary         78930 non-null object\n",
      "text            78930 non-null object\n",
      "dtypes: float64(2), object(8)\n",
      "memory usage: 6.0+ MB\n"
     ]
    }
   ],
   "source": [
    "df.info()"
   ]
  },
  {
   "cell_type": "markdown",
   "metadata": {},
   "source": [
    "## I've made pandas profile report to see a quik overview of data"
   ]
  },
  {
   "cell_type": "code",
   "execution_count": 13,
   "metadata": {},
   "outputs": [],
   "source": [
    "#df.profile_report()"
   ]
  },
  {
   "cell_type": "markdown",
   "metadata": {},
   "source": [
    "## I created new column to split this reviews to positive, neutral and negative. I assumed that rate equal to 4.0 and higher is good rate, between 3.0 and 4.0 is possibly neutral, and less than 3 I consider as negative. Usually when I'm shopping and I notice that product has a rate lower than 3.0 I avoid buying this and that was the factor for that decision. "
   ]
  },
  {
   "cell_type": "code",
   "execution_count": 14,
   "metadata": {},
   "outputs": [],
   "source": [
    "df['type_of_review'] = df['rate'].apply(lambda rate: \"Positive\" if rate>=4.0 else (\"Neutral\" if rate<4.0 and rate>=3.0 else \"Negative\"))\n",
    "reviews = df[['text','type_of_review']]"
   ]
  },
  {
   "cell_type": "markdown",
   "metadata": {},
   "source": [
    "# Basic information about the data"
   ]
  },
  {
   "cell_type": "markdown",
   "metadata": {},
   "source": [
    "## Barplot to show distribution types of review. "
   ]
  },
  {
   "cell_type": "code",
   "execution_count": 15,
   "metadata": {},
   "outputs": [
    {
     "data": {
      "text/plain": [
       "Text(0.5, 0, 'Type of review')"
      ]
     },
     "execution_count": 15,
     "metadata": {},
     "output_type": "execute_result"
    },
    {
     "data": {
      "image/png": "[encoded data removed]",
      "text/plain": [
       "<Figure size 432x288 with 1 Axes>"
      ]
     },
     "metadata": {
      "needs_background": "light"
     },
     "output_type": "display_data"
    }
   ],
   "source": [
    "ax = sns.countplot(\n",
    "    data = df,\n",
    "    x = df['type_of_review']\n",
    ")\n",
    "ax.set_title('Count of reviews')\n",
    "ax.set_ylabel('Count')\n",
    "ax.set_xlabel('Type of review')"
   ]
  },
  {
   "cell_type": "markdown",
   "metadata": {},
   "source": []
  },
  {
   "cell_type": "markdown",
   "metadata": {},
   "source": [
    "## I changed time from unix to \"standard\" and looked at distribution of reviews through time."
   ]
  },
  {
   "cell_type": "code",
   "execution_count": 16,
   "metadata": {},
   "outputs": [],
   "source": [
    "df['time'] = df['time'].apply(lambda x: datetime.utcfromtimestamp(int(x)).strftime('%Y-%m-%d'))"
   ]
  },
  {
   "cell_type": "code",
   "execution_count": 17,
   "metadata": {},
   "outputs": [],
   "source": [
    "df['time'] = pd.to_datetime(df['time'])\n",
    "df['year'] = [x.year for x in df['time']]"
   ]
  },
  {
   "cell_type": "code",
   "execution_count": 18,
   "metadata": {},
   "outputs": [
    {
     "data": {
      "text/plain": [
       "<matplotlib.axes._subplots.AxesSubplot at 0x7f0c2c175cd0>"
      ]
     },
     "execution_count": 18,
     "metadata": {},
     "output_type": "execute_result"
    },
    {
     "data": {
      "image/png": "[encoded data removed]",
      "text/plain": [
       "<Figure size 720x720 with 1 Axes>"
      ]
     },
     "metadata": {
      "needs_background": "light"
     },
     "output_type": "display_data"
    }
   ],
   "source": [
    "fig, ax = plt.subplots(figsize=(10,10))\n",
    "sns.countplot(\n",
    "    ax=ax,\n",
    "    data = df,\n",
    "    x = df['year']\n",
    ")"
   ]
  },
  {
   "cell_type": "code",
   "execution_count": 19,
   "metadata": {},
   "outputs": [
    {
     "data": {
      "text/plain": [
       "<matplotlib.axes._subplots.AxesSubplot at 0x7f0c2c1523d0>"
      ]
     },
     "execution_count": 19,
     "metadata": {},
     "output_type": "execute_result"
    },
    {
     "data": {
      "image/png": "[encoded data removed]",
      "text/plain": [
       "<Figure size 720x720 with 1 Axes>"
      ]
     },
     "metadata": {
      "needs_background": "light"
     },
     "output_type": "display_data"
    }
   ],
   "source": [
    "fig, ax = plt.subplots(figsize=(10,10))\n",
    "sns.countplot(\n",
    "    ax=ax,\n",
    "    data = df,\n",
    "    x = df['year'],\n",
    "    hue = df['type_of_review']\n",
    ")"
   ]
  },
  {
   "cell_type": "markdown",
   "metadata": {},
   "source": [
    "## We can see that the highest peak falls in 2007. Generally the more reviews in total, the more positive, negative and neutral opinions grow. Although there are visible deviations. Maybe it can define better advertisement of the Amazon in 2007."
   ]
  },
  {
   "cell_type": "markdown",
   "metadata": {},
   "source": [
    "## I wanted to check if there is some difference between price of product and type of rate, but I noticed that there is the same distribution of price in every type so I decided to remove it in next steps. "
   ]
  },
  {
   "cell_type": "code",
   "execution_count": 20,
   "metadata": {},
   "outputs": [
    {
     "data": {
      "text/plain": [
       "<matplotlib.axes._subplots.AxesSubplot at 0x7f0c2c2cd710>"
      ]
     },
     "execution_count": 20,
     "metadata": {},
     "output_type": "execute_result"
    },
    {
     "data": {
      "image/png": "[encoded data removed]",
      "text/plain": [
       "<Figure size 720x720 with 3 Axes>"
      ]
     },
     "metadata": {
      "needs_background": "light"
     },
     "output_type": "display_data"
    }
   ],
   "source": [
    "Prices = df.dropna()\n",
    "f, axes = plt.subplots(1, 3, figsize=(10,10))\n",
    "sns.distplot(Prices[Prices.type_of_review == 'Positive'].Price,kde=False, bins=20, ax=axes[0])\n",
    "sns.distplot(Prices[Prices.type_of_review == 'Neutral'].Price,kde=False, bins=20, ax=axes[1])\n",
    "sns.distplot(Prices[Prices.type_of_review == 'Negative'].Price,kde=False, bins=20, ax=axes[2])"
   ]
  },
  {
   "cell_type": "markdown",
   "metadata": {},
   "source": [
    "## I combined two columns because, as well as text, summary give us information about coustomer's feelings, and I'll use it later to analyze comments"
   ]
  },
  {
   "cell_type": "code",
   "execution_count": 21,
   "metadata": {},
   "outputs": [],
   "source": [
    "df['text'] += df['summary']"
   ]
  },
  {
   "cell_type": "markdown",
   "metadata": {},
   "source": [
    "## I checked if different users can have the same name, and that was the case, so I sorted them by userID in my further work. "
   ]
  },
  {
   "cell_type": "code",
   "execution_count": 22,
   "metadata": {},
   "outputs": [
    {
     "data": {
      "text/plain": [
       "63369"
      ]
     },
     "execution_count": 22,
     "metadata": {},
     "output_type": "execute_result"
    }
   ],
   "source": [
    "df['User_Name'].nunique()"
   ]
  },
  {
   "cell_type": "code",
   "execution_count": 23,
   "metadata": {},
   "outputs": [
    {
     "data": {
      "text/plain": [
       "68040"
      ]
     },
     "execution_count": 23,
     "metadata": {},
     "output_type": "execute_result"
    }
   ],
   "source": [
    "df['userID'].nunique()"
   ]
  },
  {
   "cell_type": "code",
   "execution_count": 24,
   "metadata": {},
   "outputs": [
    {
     "data": {
      "text/plain": [
       "User_Name\n",
       "John                     47\n",
       "Chris                    47\n",
       "Dave                     45\n",
       "Mike                     45\n",
       "Brendon Edwards          44\n",
       "                         ..\n",
       "P. Casey                  1\n",
       "P. Carrne \"smileyptc\"     1\n",
       "P. Cardella               1\n",
       "P. Canady \"pcman3550\"     1\n",
       "!!!!!                     1\n",
       "Name: userID, Length: 63369, dtype: int64"
      ]
     },
     "execution_count": 24,
     "metadata": {},
     "output_type": "execute_result"
    }
   ],
   "source": [
    "df.groupby('User_Name').userID.count().sort_values(ascending = False)"
   ]
  },
  {
   "cell_type": "code",
   "execution_count": 25,
   "metadata": {},
   "outputs": [
    {
     "data": {
      "text/plain": [
       "36"
      ]
     },
     "execution_count": 25,
     "metadata": {},
     "output_type": "execute_result"
    }
   ],
   "source": [
    "df[df.User_Name == 'Chris'].userID.nunique()"
   ]
  },
  {
   "cell_type": "markdown",
   "metadata": {},
   "source": [
    "# Bestsellers"
   ]
  },
  {
   "cell_type": "markdown",
   "metadata": {},
   "source": [
    "## I made a bestsellers data frame where we can find products which have count of reviews more than 100 and their rate mean is over 4.0. In this way we can extract these products to main page and for example increase their sales."
   ]
  },
  {
   "cell_type": "code",
   "execution_count": 26,
   "metadata": {},
   "outputs": [
    {
     "data": {
      "text/plain": [
       "7438"
      ]
     },
     "execution_count": 26,
     "metadata": {},
     "output_type": "execute_result"
    }
   ],
   "source": [
    "df['ProductID'].nunique()"
   ]
  },
  {
   "cell_type": "code",
   "execution_count": 27,
   "metadata": {},
   "outputs": [
    {
     "data": {
      "text/plain": [
       "7124"
      ]
     },
     "execution_count": 27,
     "metadata": {},
     "output_type": "execute_result"
    }
   ],
   "source": [
    "df['Product_Name'].nunique()"
   ]
  },
  {
   "cell_type": "code",
   "execution_count": 28,
   "metadata": {},
   "outputs": [],
   "source": [
    "products = df.groupby(['ProductID','Product_Name']).helpfulness.count().reset_index().merge(\n",
    "           df.groupby(['ProductID','Product_Name']).rate.mean().reset_index()\n",
    "        ) \n",
    "products = products.rename(columns = {'helpfulness':'count_rate'})\n",
    "products = products[(products.count_rate > 100) & (products.rate > 4.0)].reset_index(drop=True)\n",
    "products.sort_values(by='rate',inplace=True, ascending =False)\n",
    "bestsellers = products[0:10]"
   ]
  },
  {
   "cell_type": "code",
   "execution_count": 29,
   "metadata": {},
   "outputs": [
    {
     "data": {
      "text/html": [
       "<div>\n",
       "<style scoped>\n",
       "    .dataframe tbody tr th:only-of-type {\n",
       "        vertical-align: middle;\n",
       "    }\n",
       "\n",
       "    .dataframe tbody tr th {\n",
       "        vertical-align: top;\n",
       "    }\n",
       "\n",
       "    .dataframe thead th {\n",
       "        text-align: right;\n",
       "    }\n",
       "</style>\n",
       "<table border=\"1\" class=\"dataframe\">\n",
       "  <thead>\n",
       "    <tr style=\"text-align: right;\">\n",
       "      <th></th>\n",
       "      <th>ProductID</th>\n",
       "      <th>Product_Name</th>\n",
       "      <th>count_rate</th>\n",
       "      <th>rate</th>\n",
       "    </tr>\n",
       "  </thead>\n",
       "  <tbody>\n",
       "    <tr>\n",
       "      <th>17</th>\n",
       "      <td>B000PB8CQI</td>\n",
       "      <td>Multi-Use Vehicle Charger with Dual USB Ports ...</td>\n",
       "      <td>145</td>\n",
       "      <td>4.613793</td>\n",
       "    </tr>\n",
       "    <tr>\n",
       "      <th>8</th>\n",
       "      <td>B000ELUXIO</td>\n",
       "      <td>Palm Horizontal Case for Treo 650, 700</td>\n",
       "      <td>109</td>\n",
       "      <td>4.403670</td>\n",
       "    </tr>\n",
       "    <tr>\n",
       "      <th>3</th>\n",
       "      <td>B0007N08NO</td>\n",
       "      <td>Motorola Cigarette Lighter Adapter for Motorol...</td>\n",
       "      <td>344</td>\n",
       "      <td>4.380814</td>\n",
       "    </tr>\n",
       "    <tr>\n",
       "      <th>13</th>\n",
       "      <td>B000I8FL0S</td>\n",
       "      <td>BoxWave Galaxy Note 2 / Note DuoSuit - Slim-Fi...</td>\n",
       "      <td>138</td>\n",
       "      <td>4.347826</td>\n",
       "    </tr>\n",
       "    <tr>\n",
       "      <th>16</th>\n",
       "      <td>B000LGE1LW</td>\n",
       "      <td>BoxWave Galaxy Note 2 / Note DuoSuit - Slim-Fi...</td>\n",
       "      <td>137</td>\n",
       "      <td>4.343066</td>\n",
       "    </tr>\n",
       "    <tr>\n",
       "      <th>12</th>\n",
       "      <td>B000I8C68S</td>\n",
       "      <td>BoxWave Galaxy Note 2 / Note DuoSuit - Slim-Fi...</td>\n",
       "      <td>136</td>\n",
       "      <td>4.338235</td>\n",
       "    </tr>\n",
       "    <tr>\n",
       "      <th>15</th>\n",
       "      <td>B000JP8P0I</td>\n",
       "      <td>Nokia OEM Car Charger For Nokia E62</td>\n",
       "      <td>113</td>\n",
       "      <td>4.309735</td>\n",
       "    </tr>\n",
       "    <tr>\n",
       "      <th>5</th>\n",
       "      <td>B0009SHMUY</td>\n",
       "      <td>Sony Ericsson USB Cable</td>\n",
       "      <td>124</td>\n",
       "      <td>4.250000</td>\n",
       "    </tr>\n",
       "    <tr>\n",
       "      <th>10</th>\n",
       "      <td>B000FL9QGI</td>\n",
       "      <td>BlueAnt Bluetooth Portable Handsfree Supertoot...</td>\n",
       "      <td>184</td>\n",
       "      <td>4.250000</td>\n",
       "    </tr>\n",
       "    <tr>\n",
       "      <th>7</th>\n",
       "      <td>B000DZXIRY</td>\n",
       "      <td>Plantronics CS55 Wireless Headset Bundle with ...</td>\n",
       "      <td>105</td>\n",
       "      <td>4.238095</td>\n",
       "    </tr>\n",
       "  </tbody>\n",
       "</table>\n",
       "</div>"
      ],
      "text/plain": [
       "     ProductID                                       Product_Name  count_rate  \\\n",
       "17  B000PB8CQI  Multi-Use Vehicle Charger with Dual USB Ports ...         145   \n",
       "8   B000ELUXIO             Palm Horizontal Case for Treo 650, 700         109   \n",
       "3   B0007N08NO  Motorola Cigarette Lighter Adapter for Motorol...         344   \n",
       "13  B000I8FL0S  BoxWave Galaxy Note 2 / Note DuoSuit - Slim-Fi...         138   \n",
       "16  B000LGE1LW  BoxWave Galaxy Note 2 / Note DuoSuit - Slim-Fi...         137   \n",
       "12  B000I8C68S  BoxWave Galaxy Note 2 / Note DuoSuit - Slim-Fi...         136   \n",
       "15  B000JP8P0I                Nokia OEM Car Charger For Nokia E62         113   \n",
       "5   B0009SHMUY                            Sony Ericsson USB Cable         124   \n",
       "10  B000FL9QGI  BlueAnt Bluetooth Portable Handsfree Supertoot...         184   \n",
       "7   B000DZXIRY  Plantronics CS55 Wireless Headset Bundle with ...         105   \n",
       "\n",
       "        rate  \n",
       "17  4.613793  \n",
       "8   4.403670  \n",
       "3   4.380814  \n",
       "13  4.347826  \n",
       "16  4.343066  \n",
       "12  4.338235  \n",
       "15  4.309735  \n",
       "5   4.250000  \n",
       "10  4.250000  \n",
       "7   4.238095  "
      ]
     },
     "execution_count": 29,
     "metadata": {},
     "output_type": "execute_result"
    }
   ],
   "source": [
    "bestsellers"
   ]
  },
  {
   "cell_type": "markdown",
   "metadata": {},
   "source": [
    "# Apriori algorithm "
   ]
  },
  {
   "cell_type": "markdown",
   "metadata": {},
   "source": [
    "## I created new df to avoid modifying the original one."
   ]
  },
  {
   "cell_type": "code",
   "execution_count": 30,
   "metadata": {},
   "outputs": [],
   "source": [
    "df2 = df.drop(columns='Price',axis=1)\n",
    "df2 = df2.drop(df2[df2.Product_Name == ''].index)\n",
    "df2 = df2.dropna().reset_index()"
   ]
  },
  {
   "cell_type": "markdown",
   "metadata": {},
   "source": [
    "## Preprocessing for apriori algorithm"
   ]
  },
  {
   "cell_type": "code",
   "execution_count": 31,
   "metadata": {},
   "outputs": [],
   "source": [
    "df2['Product_Name'] = df2['Product_Name'].str.strip()"
   ]
  },
  {
   "cell_type": "code",
   "execution_count": 32,
   "metadata": {},
   "outputs": [],
   "source": [
    "tmp = df2.groupby('userID').Product_Name.count().reset_index()"
   ]
  },
  {
   "cell_type": "code",
   "execution_count": 33,
   "metadata": {},
   "outputs": [],
   "source": [
    "users_to_analyze = list(tmp[tmp.Product_Name >1].userID)"
   ]
  },
  {
   "cell_type": "code",
   "execution_count": 34,
   "metadata": {},
   "outputs": [],
   "source": [
    "tmp_list = list(df2.userID.isin(users_to_analyze))\n",
    "tmp_df2 = df2[tmp_list]"
   ]
  },
  {
   "cell_type": "code",
   "execution_count": 35,
   "metadata": {},
   "outputs": [
    {
     "data": {
      "text/plain": [
       "(14248, 12)"
      ]
     },
     "execution_count": 35,
     "metadata": {},
     "output_type": "execute_result"
    }
   ],
   "source": [
    "tmp_df2.shape"
   ]
  },
  {
   "cell_type": "code",
   "execution_count": 36,
   "metadata": {},
   "outputs": [],
   "source": [
    "users_vs_products = tmp_df2.groupby(['userID', 'Product_Name']).rate.count().unstack().reset_index().fillna(0).set_index('userID')"
   ]
  },
  {
   "cell_type": "code",
   "execution_count": 37,
   "metadata": {},
   "outputs": [],
   "source": [
    "users_vs_products = users_vs_products.applymap(lambda x: 0 if x<=0 else 1)"
   ]
  },
  {
   "cell_type": "markdown",
   "metadata": {},
   "source": [
    "## Apriori algorithm "
   ]
  },
  {
   "cell_type": "code",
   "execution_count": 38,
   "metadata": {},
   "outputs": [],
   "source": [
    "frq_items = apriori(users_vs_products, min_support = 0.001, use_colnames = True)"
   ]
  },
  {
   "cell_type": "code",
   "execution_count": 39,
   "metadata": {},
   "outputs": [],
   "source": [
    "rules = association_rules(frq_items, metric =\"lift\", min_threshold = 1) \n",
    "rules = rules.sort_values(['confidence', 'lift'], ascending =[False, False]) "
   ]
  },
  {
   "cell_type": "markdown",
   "metadata": {},
   "source": [
    "## In the second column (consequents) are products to recommend to user when he bought product from the column one (antecedents). The higher the values in columns support and confidence, the greater the likelihood that the user will be interested in the product. "
   ]
  },
  {
   "cell_type": "code",
   "execution_count": 40,
   "metadata": {},
   "outputs": [
    {
     "data": {
      "text/html": [
       "<div>\n",
       "<style scoped>\n",
       "    .dataframe tbody tr th:only-of-type {\n",
       "        vertical-align: middle;\n",
       "    }\n",
       "\n",
       "    .dataframe tbody tr th {\n",
       "        vertical-align: top;\n",
       "    }\n",
       "\n",
       "    .dataframe thead th {\n",
       "        text-align: right;\n",
       "    }\n",
       "</style>\n",
       "<table border=\"1\" class=\"dataframe\">\n",
       "  <thead>\n",
       "    <tr style=\"text-align: right;\">\n",
       "      <th></th>\n",
       "      <th>antecedents</th>\n",
       "      <th>consequents</th>\n",
       "      <th>antecedent support</th>\n",
       "      <th>consequent support</th>\n",
       "      <th>support</th>\n",
       "      <th>confidence</th>\n",
       "      <th>lift</th>\n",
       "      <th>leverage</th>\n",
       "      <th>conviction</th>\n",
       "    </tr>\n",
       "  </thead>\n",
       "  <tbody>\n",
       "    <tr>\n",
       "      <th>16</th>\n",
       "      <td>(C2G / Cables to Go 01939 RJ45 Cat5 8 x 8 Modu...</td>\n",
       "      <td>(C2G / Cables to Go 01940 RJ45 Cat5 8 x 8 Modu...</td>\n",
       "      <td>0.001048</td>\n",
       "      <td>0.001048</td>\n",
       "      <td>0.001048</td>\n",
       "      <td>1.000000</td>\n",
       "      <td>954.333333</td>\n",
       "      <td>0.001047</td>\n",
       "      <td>inf</td>\n",
       "    </tr>\n",
       "    <tr>\n",
       "      <th>17</th>\n",
       "      <td>(C2G / Cables to Go 01940 RJ45 Cat5 8 x 8 Modu...</td>\n",
       "      <td>(C2G / Cables to Go 01939 RJ45 Cat5 8 x 8 Modu...</td>\n",
       "      <td>0.001048</td>\n",
       "      <td>0.001048</td>\n",
       "      <td>0.001048</td>\n",
       "      <td>1.000000</td>\n",
       "      <td>954.333333</td>\n",
       "      <td>0.001047</td>\n",
       "      <td>inf</td>\n",
       "    </tr>\n",
       "    <tr>\n",
       "      <th>4</th>\n",
       "      <td>(Baggallini Crinkle Phone/PDA Case, Plum)</td>\n",
       "      <td>(Baggallini Crinkle Phone/PDA Case, Dark Olive)</td>\n",
       "      <td>0.001397</td>\n",
       "      <td>0.001397</td>\n",
       "      <td>0.001397</td>\n",
       "      <td>1.000000</td>\n",
       "      <td>715.750000</td>\n",
       "      <td>0.001395</td>\n",
       "      <td>inf</td>\n",
       "    </tr>\n",
       "    <tr>\n",
       "      <th>5</th>\n",
       "      <td>(Baggallini Crinkle Phone/PDA Case, Dark Olive)</td>\n",
       "      <td>(Baggallini Crinkle Phone/PDA Case, Plum)</td>\n",
       "      <td>0.001397</td>\n",
       "      <td>0.001397</td>\n",
       "      <td>0.001397</td>\n",
       "      <td>1.000000</td>\n",
       "      <td>715.750000</td>\n",
       "      <td>0.001395</td>\n",
       "      <td>inf</td>\n",
       "    </tr>\n",
       "    <tr>\n",
       "      <th>6</th>\n",
       "      <td>(Baggallini Crinkle Phone/PDA Case, Steel Blue)</td>\n",
       "      <td>(Baggallini Crinkle Phone/PDA Case, Dark Olive)</td>\n",
       "      <td>0.001397</td>\n",
       "      <td>0.001397</td>\n",
       "      <td>0.001397</td>\n",
       "      <td>1.000000</td>\n",
       "      <td>715.750000</td>\n",
       "      <td>0.001395</td>\n",
       "      <td>inf</td>\n",
       "    </tr>\n",
       "    <tr>\n",
       "      <th>...</th>\n",
       "      <td>...</td>\n",
       "      <td>...</td>\n",
       "      <td>...</td>\n",
       "      <td>...</td>\n",
       "      <td>...</td>\n",
       "      <td>...</td>\n",
       "      <td>...</td>\n",
       "      <td>...</td>\n",
       "      <td>...</td>\n",
       "    </tr>\n",
       "    <tr>\n",
       "      <th>103</th>\n",
       "      <td>(Plantronics Voyager 510 Bluetooth Headset [Re...</td>\n",
       "      <td>(Plantronics USB Adaptor Explorer 320 Voyager)</td>\n",
       "      <td>0.083304</td>\n",
       "      <td>0.001397</td>\n",
       "      <td>0.001048</td>\n",
       "      <td>0.012579</td>\n",
       "      <td>9.003145</td>\n",
       "      <td>0.000931</td>\n",
       "      <td>1.011324</td>\n",
       "    </tr>\n",
       "    <tr>\n",
       "      <th>13</th>\n",
       "      <td>(Plantronics Voyager 510 Bluetooth Headset [Re...</td>\n",
       "      <td>(BlueAnt X3 Micro Bluetooth Headset (Black))</td>\n",
       "      <td>0.083304</td>\n",
       "      <td>0.004017</td>\n",
       "      <td>0.001048</td>\n",
       "      <td>0.012579</td>\n",
       "      <td>3.131529</td>\n",
       "      <td>0.000713</td>\n",
       "      <td>1.008671</td>\n",
       "    </tr>\n",
       "    <tr>\n",
       "      <th>1</th>\n",
       "      <td>(Plantronics Voyager 510 Bluetooth Headset [Re...</td>\n",
       "      <td>(Aliph Jawbone Bluetooth Headset (Grey) [Bulk,...</td>\n",
       "      <td>0.083304</td>\n",
       "      <td>0.005239</td>\n",
       "      <td>0.001048</td>\n",
       "      <td>0.012579</td>\n",
       "      <td>2.400839</td>\n",
       "      <td>0.000611</td>\n",
       "      <td>1.007433</td>\n",
       "    </tr>\n",
       "    <tr>\n",
       "      <th>19</th>\n",
       "      <td>(Plantronics Voyager 510 Bluetooth Headset [Re...</td>\n",
       "      <td>(Cardo Systems SCALA 500 Bluetooth Headset)</td>\n",
       "      <td>0.083304</td>\n",
       "      <td>0.009780</td>\n",
       "      <td>0.001048</td>\n",
       "      <td>0.012579</td>\n",
       "      <td>1.286164</td>\n",
       "      <td>0.000233</td>\n",
       "      <td>1.002834</td>\n",
       "    </tr>\n",
       "    <tr>\n",
       "      <th>65</th>\n",
       "      <td>(Plantronics Voyager 510 Bluetooth Headset [Re...</td>\n",
       "      <td>(Motorola H500 Bluetooth Wireless Headset (Sof...</td>\n",
       "      <td>0.083304</td>\n",
       "      <td>0.010129</td>\n",
       "      <td>0.001048</td>\n",
       "      <td>0.012579</td>\n",
       "      <td>1.241813</td>\n",
       "      <td>0.000204</td>\n",
       "      <td>1.002481</td>\n",
       "    </tr>\n",
       "  </tbody>\n",
       "</table>\n",
       "<p>176 rows × 9 columns</p>\n",
       "</div>"
      ],
      "text/plain": [
       "                                           antecedents  \\\n",
       "16   (C2G / Cables to Go 01939 RJ45 Cat5 8 x 8 Modu...   \n",
       "17   (C2G / Cables to Go 01940 RJ45 Cat5 8 x 8 Modu...   \n",
       "4            (Baggallini Crinkle Phone/PDA Case, Plum)   \n",
       "5      (Baggallini Crinkle Phone/PDA Case, Dark Olive)   \n",
       "6      (Baggallini Crinkle Phone/PDA Case, Steel Blue)   \n",
       "..                                                 ...   \n",
       "103  (Plantronics Voyager 510 Bluetooth Headset [Re...   \n",
       "13   (Plantronics Voyager 510 Bluetooth Headset [Re...   \n",
       "1    (Plantronics Voyager 510 Bluetooth Headset [Re...   \n",
       "19   (Plantronics Voyager 510 Bluetooth Headset [Re...   \n",
       "65   (Plantronics Voyager 510 Bluetooth Headset [Re...   \n",
       "\n",
       "                                           consequents  antecedent support  \\\n",
       "16   (C2G / Cables to Go 01940 RJ45 Cat5 8 x 8 Modu...            0.001048   \n",
       "17   (C2G / Cables to Go 01939 RJ45 Cat5 8 x 8 Modu...            0.001048   \n",
       "4      (Baggallini Crinkle Phone/PDA Case, Dark Olive)            0.001397   \n",
       "5            (Baggallini Crinkle Phone/PDA Case, Plum)            0.001397   \n",
       "6      (Baggallini Crinkle Phone/PDA Case, Dark Olive)            0.001397   \n",
       "..                                                 ...                 ...   \n",
       "103     (Plantronics USB Adaptor Explorer 320 Voyager)            0.083304   \n",
       "13        (BlueAnt X3 Micro Bluetooth Headset (Black))            0.083304   \n",
       "1    (Aliph Jawbone Bluetooth Headset (Grey) [Bulk,...            0.083304   \n",
       "19         (Cardo Systems SCALA 500 Bluetooth Headset)            0.083304   \n",
       "65   (Motorola H500 Bluetooth Wireless Headset (Sof...            0.083304   \n",
       "\n",
       "     consequent support   support  confidence        lift  leverage  \\\n",
       "16             0.001048  0.001048    1.000000  954.333333  0.001047   \n",
       "17             0.001048  0.001048    1.000000  954.333333  0.001047   \n",
       "4              0.001397  0.001397    1.000000  715.750000  0.001395   \n",
       "5              0.001397  0.001397    1.000000  715.750000  0.001395   \n",
       "6              0.001397  0.001397    1.000000  715.750000  0.001395   \n",
       "..                  ...       ...         ...         ...       ...   \n",
       "103            0.001397  0.001048    0.012579    9.003145  0.000931   \n",
       "13             0.004017  0.001048    0.012579    3.131529  0.000713   \n",
       "1              0.005239  0.001048    0.012579    2.400839  0.000611   \n",
       "19             0.009780  0.001048    0.012579    1.286164  0.000233   \n",
       "65             0.010129  0.001048    0.012579    1.241813  0.000204   \n",
       "\n",
       "     conviction  \n",
       "16          inf  \n",
       "17          inf  \n",
       "4           inf  \n",
       "5           inf  \n",
       "6           inf  \n",
       "..          ...  \n",
       "103    1.011324  \n",
       "13     1.008671  \n",
       "1      1.007433  \n",
       "19     1.002834  \n",
       "65     1.002481  \n",
       "\n",
       "[176 rows x 9 columns]"
      ]
     },
     "execution_count": 40,
     "metadata": {},
     "output_type": "execute_result"
    }
   ],
   "source": [
    "rules"
   ]
  },
  {
   "cell_type": "markdown",
   "metadata": {},
   "source": [
    "# Comments analysis"
   ]
  },
  {
   "cell_type": "code",
   "execution_count": 41,
   "metadata": {},
   "outputs": [],
   "source": [
    "df['bad_rate'] = df['rate'].apply(lambda x: 1 if x < 4.0 else 0)"
   ]
  },
  {
   "cell_type": "markdown",
   "metadata": {},
   "source": [
    "## I take a fraction of data to make calculation faster. "
   ]
  },
  {
   "cell_type": "code",
   "execution_count": 42,
   "metadata": {},
   "outputs": [],
   "source": [
    "reviews_df = df[['text','bad_rate']]\n",
    "reviews_df = reviews_df.sample(frac = 0.4, replace = False, random_state=133)\n"
   ]
  },
  {
   "cell_type": "markdown",
   "metadata": {},
   "source": [
    "## Preprocessing"
   ]
  },
  {
   "cell_type": "code",
   "execution_count": 43,
   "metadata": {},
   "outputs": [],
   "source": [
    "def get_wordnet_pos(pos_tag):\n",
    "    if pos_tag.startswith('J'):\n",
    "        return wordnet.ADJ\n",
    "    elif pos_tag.startswith('V'):\n",
    "        return wordnet.VERB\n",
    "    elif pos_tag.startswith('N'):\n",
    "        return wordnet.NOUN\n",
    "    elif pos_tag.startswith('R'):\n",
    "        return wordnet.ADV\n",
    "    else:\n",
    "        return wordnet.NOUN\n",
    "    \n",
    "\n",
    "\n",
    "def clean_review(text):\n",
    "    text = text.lower()\n",
    "    text = [word.strip(string.punctuation) for word in text.split(\" \")]\n",
    "    text = [word for word in text if not any(c.isdigit() for c in word)]\n",
    "    stop = stopwords.words('english')\n",
    "    text = [x for x in text if x not in stop]\n",
    "    text = [t for t in text if len(t) > 0]\n",
    "    pos_tags = pos_tag(text)\n",
    "    text = [WordNetLemmatizer().lemmatize(t[0], get_wordnet_pos(t[1])) for t in pos_tags]\n",
    "    text = [t for t in text if len(t) > 1]\n",
    "    text = \" \".join(text)\n",
    "    return(text)\n",
    "\n",
    "reviews_df[\"review_clean\"] = reviews_df[\"text\"].apply(lambda x: clean_review(x))"
   ]
  },
  {
   "cell_type": "code",
   "execution_count": 44,
   "metadata": {},
   "outputs": [],
   "source": [
    "sid = SentimentIntensityAnalyzer()\n",
    "reviews_df[\"sentiments\"] = reviews_df[\"text\"].apply(lambda x: sid.polarity_scores(x))\n",
    "reviews_df = pd.concat([reviews_df.drop(['sentiments'], axis=1), reviews_df['sentiments'].apply(pd.Series)], axis=1)"
   ]
  },
  {
   "cell_type": "code",
   "execution_count": 45,
   "metadata": {},
   "outputs": [],
   "source": [
    "reviews_df[\"nb_chars\"] = reviews_df[\"text\"].apply(lambda x: len(x))\n",
    "reviews_df[\"nb_words\"] = reviews_df[\"text\"].apply(lambda x: len(x.split(\" \")))"
   ]
  },
  {
   "cell_type": "code",
   "execution_count": 46,
   "metadata": {},
   "outputs": [],
   "source": [
    "documents = [TaggedDocument(doc, [i]) for i, doc in enumerate(reviews_df[\"review_clean\"].apply(lambda x: x.split(\" \")))]\n",
    "model = Doc2Vec(documents, vector_size=5, window=2, min_count=1, workers=4)\n",
    "doc2vec_df = reviews_df[\"review_clean\"].apply(lambda x: model.infer_vector(x.split(\" \"))).apply(pd.Series)\n",
    "doc2vec_df.columns = [\"doc2vec_vector_\" + str(x) for x in doc2vec_df.columns]\n",
    "reviews_df = pd.concat([reviews_df, doc2vec_df], axis=1)"
   ]
  },
  {
   "cell_type": "code",
   "execution_count": 47,
   "metadata": {},
   "outputs": [],
   "source": [
    "tfidf = TfidfVectorizer(min_df = 10)\n",
    "tfidf_result = tfidf.fit_transform(reviews_df[\"review_clean\"]).toarray()\n",
    "tfidf_df = pd.DataFrame(tfidf_result, columns = tfidf.get_feature_names())\n",
    "tfidf_df.columns = [\"word_\" + str(x) for x in tfidf_df.columns]\n",
    "tfidf_df.index = reviews_df.index\n",
    "reviews_df = pd.concat([reviews_df, tfidf_df], axis=1)"
   ]
  },
  {
   "cell_type": "markdown",
   "metadata": {},
   "source": [
    "## A wordmap to see which words were the most common"
   ]
  },
  {
   "cell_type": "code",
   "execution_count": 48,
   "metadata": {
    "scrolled": true
   },
   "outputs": [
    {
     "data": {
      "image/png": "[encoded data removed]",
      "text/plain": [
       "<Figure size 1440x1440 with 1 Axes>"
      ]
     },
     "metadata": {
      "needs_background": "light"
     },
     "output_type": "display_data"
    }
   ],
   "source": [
    "def wordcloud_map(data, title = None):\n",
    "    wordcloud = WordCloud(\n",
    "        background_color = 'white',\n",
    "        max_words = 200,\n",
    "        max_font_size = 40, \n",
    "        scale = 3,\n",
    "        random_state = 42\n",
    "    ).generate(str(data))\n",
    "\n",
    "    fig = plt.figure(1, figsize = (20, 20))\n",
    "    plt.axis('off')\n",
    "    if title: \n",
    "        fig.suptitle(title, fontsize = 20)\n",
    "        fig.subplots_adjust(top = 2.3)\n",
    "\n",
    "    plt.imshow(wordcloud)\n",
    "    plt.show()\n",
    "    \n",
    "wordcloud_map(reviews_df[\"text\"])"
   ]
  },
  {
   "cell_type": "markdown",
   "metadata": {},
   "source": [
    "## The most positively marked words"
   ]
  },
  {
   "cell_type": "code",
   "execution_count": 49,
   "metadata": {},
   "outputs": [
    {
     "data": {
      "text/html": [
       "<div>\n",
       "<style scoped>\n",
       "    .dataframe tbody tr th:only-of-type {\n",
       "        vertical-align: middle;\n",
       "    }\n",
       "\n",
       "    .dataframe tbody tr th {\n",
       "        vertical-align: top;\n",
       "    }\n",
       "\n",
       "    .dataframe thead th {\n",
       "        text-align: right;\n",
       "    }\n",
       "</style>\n",
       "<table border=\"1\" class=\"dataframe\">\n",
       "  <thead>\n",
       "    <tr style=\"text-align: right;\">\n",
       "      <th></th>\n",
       "      <th>text</th>\n",
       "      <th>pos</th>\n",
       "    </tr>\n",
       "  </thead>\n",
       "  <tbody>\n",
       "    <tr>\n",
       "      <th>75228</th>\n",
       "      <td>Great delivery and great product!Excellent</td>\n",
       "      <td>0.739</td>\n",
       "    </tr>\n",
       "    <tr>\n",
       "      <th>44200</th>\n",
       "      <td>Happy w/product! A True Pleasure Doing Busines...</td>\n",
       "      <td>0.732</td>\n",
       "    </tr>\n",
       "    <tr>\n",
       "      <th>33531</th>\n",
       "      <td>Great voice clarity. very comfortable around y...</td>\n",
       "      <td>0.713</td>\n",
       "    </tr>\n",
       "    <tr>\n",
       "      <th>18707</th>\n",
       "      <td>This is a good product with a great price.Work...</td>\n",
       "      <td>0.685</td>\n",
       "    </tr>\n",
       "    <tr>\n",
       "      <th>36703</th>\n",
       "      <td>I love it great product A + + + + + + + + + + ...</td>\n",
       "      <td>0.675</td>\n",
       "    </tr>\n",
       "    <tr>\n",
       "      <th>71544</th>\n",
       "      <td>I love it great product A + + + + + + + + + + ...</td>\n",
       "      <td>0.675</td>\n",
       "    </tr>\n",
       "    <tr>\n",
       "      <th>49345</th>\n",
       "      <td>I love it great product A + + + + + + + + + + ...</td>\n",
       "      <td>0.675</td>\n",
       "    </tr>\n",
       "    <tr>\n",
       "      <th>78348</th>\n",
       "      <td>ProsLight, comfortable, great for eyeglass wea...</td>\n",
       "      <td>0.673</td>\n",
       "    </tr>\n",
       "    <tr>\n",
       "      <th>36455</th>\n",
       "      <td>ProsLight, comfortable, great for eyeglass wea...</td>\n",
       "      <td>0.673</td>\n",
       "    </tr>\n",
       "    <tr>\n",
       "      <th>30299</th>\n",
       "      <td>Great deal, great product. Everything included...</td>\n",
       "      <td>0.658</td>\n",
       "    </tr>\n",
       "  </tbody>\n",
       "</table>\n",
       "</div>"
      ],
      "text/plain": [
       "                                                    text    pos\n",
       "75228         Great delivery and great product!Excellent  0.739\n",
       "44200  Happy w/product! A True Pleasure Doing Busines...  0.732\n",
       "33531  Great voice clarity. very comfortable around y...  0.713\n",
       "18707  This is a good product with a great price.Work...  0.685\n",
       "36703  I love it great product A + + + + + + + + + + ...  0.675\n",
       "71544  I love it great product A + + + + + + + + + + ...  0.675\n",
       "49345  I love it great product A + + + + + + + + + + ...  0.675\n",
       "78348  ProsLight, comfortable, great for eyeglass wea...  0.673\n",
       "36455  ProsLight, comfortable, great for eyeglass wea...  0.673\n",
       "30299  Great deal, great product. Everything included...  0.658"
      ]
     },
     "execution_count": 49,
     "metadata": {},
     "output_type": "execute_result"
    }
   ],
   "source": [
    "reviews_df[reviews_df[\"nb_words\"] >= 5].sort_values(\"pos\", ascending = False)[[\"text\", \"pos\"]].head(10)"
   ]
  },
  {
   "cell_type": "markdown",
   "metadata": {},
   "source": [
    "## The most negative words"
   ]
  },
  {
   "cell_type": "code",
   "execution_count": 50,
   "metadata": {},
   "outputs": [
    {
     "data": {
      "text/html": [
       "<div>\n",
       "<style scoped>\n",
       "    .dataframe tbody tr th:only-of-type {\n",
       "        vertical-align: middle;\n",
       "    }\n",
       "\n",
       "    .dataframe tbody tr th {\n",
       "        vertical-align: top;\n",
       "    }\n",
       "\n",
       "    .dataframe thead th {\n",
       "        text-align: right;\n",
       "    }\n",
       "</style>\n",
       "<table border=\"1\" class=\"dataframe\">\n",
       "  <thead>\n",
       "    <tr style=\"text-align: right;\">\n",
       "      <th></th>\n",
       "      <th>text</th>\n",
       "      <th>neg</th>\n",
       "    </tr>\n",
       "  </thead>\n",
       "  <tbody>\n",
       "    <tr>\n",
       "      <th>23445</th>\n",
       "      <td>ProsBuilt tough but weak sound</td>\n",
       "      <td>0.630</td>\n",
       "    </tr>\n",
       "    <tr>\n",
       "      <th>37617</th>\n",
       "      <td>I was unduly harsh with the 1-starMy Bad</td>\n",
       "      <td>0.561</td>\n",
       "    </tr>\n",
       "    <tr>\n",
       "      <th>14707</th>\n",
       "      <td>Bad qualityPoor Quality + No Direct USB Adapter</td>\n",
       "      <td>0.533</td>\n",
       "    </tr>\n",
       "    <tr>\n",
       "      <th>73507</th>\n",
       "      <td>I hate this phone.ProsHeavy and hard to use</td>\n",
       "      <td>0.505</td>\n",
       "    </tr>\n",
       "    <tr>\n",
       "      <th>43469</th>\n",
       "      <td>Pro'seither defective or bad design, soon to k...</td>\n",
       "      <td>0.478</td>\n",
       "    </tr>\n",
       "    <tr>\n",
       "      <th>11283</th>\n",
       "      <td>*First the bad- 1Needs work</td>\n",
       "      <td>0.467</td>\n",
       "    </tr>\n",
       "    <tr>\n",
       "      <th>2169</th>\n",
       "      <td>The GoodThe Good, The Bad, and The Ugly</td>\n",
       "      <td>0.463</td>\n",
       "    </tr>\n",
       "    <tr>\n",
       "      <th>51551</th>\n",
       "      <td>Horrible horrible horrible. Go to the store an...</td>\n",
       "      <td>0.461</td>\n",
       "    </tr>\n",
       "    <tr>\n",
       "      <th>10681</th>\n",
       "      <td>I bought but it dont work fine. The software i...</td>\n",
       "      <td>0.458</td>\n",
       "    </tr>\n",
       "    <tr>\n",
       "      <th>45745</th>\n",
       "      <td>The good newsGood, but battery died</td>\n",
       "      <td>0.452</td>\n",
       "    </tr>\n",
       "  </tbody>\n",
       "</table>\n",
       "</div>"
      ],
      "text/plain": [
       "                                                    text    neg\n",
       "23445                     ProsBuilt tough but weak sound  0.630\n",
       "37617           I was unduly harsh with the 1-starMy Bad  0.561\n",
       "14707    Bad qualityPoor Quality + No Direct USB Adapter  0.533\n",
       "73507        I hate this phone.ProsHeavy and hard to use  0.505\n",
       "43469  Pro'seither defective or bad design, soon to k...  0.478\n",
       "11283                        *First the bad- 1Needs work  0.467\n",
       "2169             The GoodThe Good, The Bad, and The Ugly  0.463\n",
       "51551  Horrible horrible horrible. Go to the store an...  0.461\n",
       "10681  I bought but it dont work fine. The software i...  0.458\n",
       "45745                The good newsGood, but battery died  0.452"
      ]
     },
     "execution_count": 50,
     "metadata": {},
     "output_type": "execute_result"
    }
   ],
   "source": [
    "reviews_df[reviews_df[\"nb_words\"] >= 5].sort_values(\"neg\", ascending = False)[[\"text\", \"neg\"]].head(10)"
   ]
  },
  {
   "cell_type": "markdown",
   "metadata": {},
   "source": [
    "## Random Forest Classifier to recognize type of comments "
   ]
  },
  {
   "cell_type": "code",
   "execution_count": 51,
   "metadata": {},
   "outputs": [],
   "source": [
    "label = \"bad_rate\"\n",
    "ignore_cols = [label, \"text\", \"review_clean\"]\n",
    "features = [i for i in reviews_df.columns if i not in ignore_cols]\n",
    "\n",
    "\n",
    "\n",
    "X_train, X_test, y_train, y_test = train_test_split(reviews_df[features], reviews_df[label], test_size = 0.20, random_state = 42)"
   ]
  },
  {
   "cell_type": "code",
   "execution_count": 52,
   "metadata": {},
   "outputs": [
    {
     "data": {
      "text/plain": [
       "RandomForestClassifier(bootstrap=True, ccp_alpha=0.0, class_weight=None,\n",
       "                       criterion='gini', max_depth=None, max_features='auto',\n",
       "                       max_leaf_nodes=None, max_samples=None,\n",
       "                       min_impurity_decrease=0.0, min_impurity_split=None,\n",
       "                       min_samples_leaf=1, min_samples_split=2,\n",
       "                       min_weight_fraction_leaf=0.0, n_estimators=100,\n",
       "                       n_jobs=None, oob_score=False, random_state=133,\n",
       "                       verbose=0, warm_start=False)"
      ]
     },
     "execution_count": 52,
     "metadata": {},
     "output_type": "execute_result"
    }
   ],
   "source": [
    "RFcls = RandomForestClassifier(random_state = 133)\n",
    "RFcls.fit(X_train, y_train)"
   ]
  },
  {
   "cell_type": "markdown",
   "metadata": {},
   "source": [
    "## Roc curve to see how good our algorithm is. "
   ]
  },
  {
   "cell_type": "code",
   "execution_count": 53,
   "metadata": {},
   "outputs": [],
   "source": [
    "def plot_roc_curve(fpr,tpr):\n",
    "  plt.figure(figsize = (15,10))\n",
    "  plt.plot(fpr,tpr,color='darkorange',\n",
    "         lw=lw, label='ROC curve (area = %0.2f)' % roc_auc)\n",
    "  plt.plot([0, 1], [0, 1], color='navy', lw=lw, linestyle='--')\n",
    "  plt.axis([0,1,0,1]) \n",
    "  plt.xlabel('False Positive Rate') \n",
    "  plt.ylabel('True Positive Rate') \n",
    "  plt.legend(loc=\"lower right\")\n",
    "  plt.show()    "
   ]
  },
  {
   "cell_type": "code",
   "execution_count": 54,
   "metadata": {},
   "outputs": [],
   "source": [
    "y_pred_prob = [x[1] for x in RFcls.predict_proba(X_test)]"
   ]
  },
  {
   "cell_type": "code",
   "execution_count": 55,
   "metadata": {},
   "outputs": [
    {
     "data": {
      "image/png": "[encoded data removed]",
      "text/plain": [
       "<Figure size 1080x720 with 1 Axes>"
      ]
     },
     "metadata": {
      "needs_background": "light"
     },
     "output_type": "display_data"
    }
   ],
   "source": [
    "lw=2\n",
    "fpr, tpr, thresholds = roc_curve(y_test, y_pred_prob, pos_label = 1)\n",
    "roc_auc = auc(fpr, tpr)\n",
    "plot_roc_curve (fpr,tpr)"
   ]
  },
  {
   "cell_type": "markdown",
   "metadata": {},
   "source": [
    "## Accuracy "
   ]
  },
  {
   "cell_type": "code",
   "execution_count": 56,
   "metadata": {
    "scrolled": true
   },
   "outputs": [
    {
     "data": {
      "text/plain": [
       "0.8242280285035629"
      ]
     },
     "execution_count": 56,
     "metadata": {},
     "output_type": "execute_result"
    }
   ],
   "source": [
    "y_pred = RFcls.predict(X_test)\n",
    "y_test = y_test.reset_index(drop=True)\n",
    "n=0\n",
    "for v1, v2 in zip(y_test, y_pred):\n",
    "    if v1 == v2:\n",
    "        n+=1\n",
    "accuracy = n/len(y_pred)\n",
    "accuracy"
   ]
  },
  {
   "cell_type": "markdown",
   "metadata": {},
   "source": [
    "## Accuracy at 0.82 as well as convexed roc curve indicates that model is well build and it can be used for that task. "
   ]
  },
  {
   "cell_type": "markdown",
   "metadata": {},
   "source": [
    "# Best 3 reviews for each product."
   ]
  },
  {
   "cell_type": "code",
   "execution_count": 57,
   "metadata": {},
   "outputs": [],
   "source": [
    "df3 = deepcopy(df2[['Product_Name','userID','helpfulness','rate','text']])"
   ]
  },
  {
   "cell_type": "code",
   "execution_count": 58,
   "metadata": {},
   "outputs": [],
   "source": [
    "helpful = []\n",
    "total_vote=[]\n",
    "for i in df3['helpfulness']:\n",
    "    a = i.split('/')\n",
    "    helpful.append(int(a[0]))\n",
    "    total_vote.append(int(a[1]))\n",
    "    \n",
    "df3['helpful'] = helpful\n",
    "df3['total_vote'] = total_vote"
   ]
  },
  {
   "cell_type": "code",
   "execution_count": 59,
   "metadata": {},
   "outputs": [],
   "source": [
    "df3['help_percentage'] = [x/y if y!=0 else np.NaN for x,y in zip(helpful,total_vote) ]"
   ]
  },
  {
   "cell_type": "code",
   "execution_count": 60,
   "metadata": {},
   "outputs": [
    {
     "data": {
      "text/plain": [
       "0"
      ]
     },
     "execution_count": 60,
     "metadata": {},
     "output_type": "execute_result"
    }
   ],
   "source": [
    "min(df3.total_vote)"
   ]
  },
  {
   "cell_type": "code",
   "execution_count": 61,
   "metadata": {},
   "outputs": [
    {
     "data": {
      "text/plain": [
       "1243"
      ]
     },
     "execution_count": 61,
     "metadata": {},
     "output_type": "execute_result"
    }
   ],
   "source": [
    "max(df3.total_vote)"
   ]
  },
  {
   "cell_type": "code",
   "execution_count": 62,
   "metadata": {},
   "outputs": [],
   "source": [
    "df3 = df3.dropna()"
   ]
  },
  {
   "cell_type": "markdown",
   "metadata": {},
   "source": [
    "## I decided that 20 opinions is enough to include them as reliable"
   ]
  },
  {
   "cell_type": "code",
   "execution_count": 63,
   "metadata": {},
   "outputs": [],
   "source": [
    "df3 = df3[df3.total_vote >20].reset_index(drop=True)"
   ]
  },
  {
   "cell_type": "code",
   "execution_count": 64,
   "metadata": {},
   "outputs": [],
   "source": [
    "def best_opinions(product):\n",
    "    tmp_df3 = df3[df3.Product_Name == str(product)]\n",
    "    tmp_df3 = tmp_df3.sort_values('help_percentage',ascending = False).head(3)\n",
    "    return(tmp_df3)\n",
    "    "
   ]
  },
  {
   "cell_type": "code",
   "execution_count": 65,
   "metadata": {},
   "outputs": [
    {
     "data": {
      "text/html": [
       "<div>\n",
       "<style scoped>\n",
       "    .dataframe tbody tr th:only-of-type {\n",
       "        vertical-align: middle;\n",
       "    }\n",
       "\n",
       "    .dataframe tbody tr th {\n",
       "        vertical-align: top;\n",
       "    }\n",
       "\n",
       "    .dataframe thead th {\n",
       "        text-align: right;\n",
       "    }\n",
       "</style>\n",
       "<table border=\"1\" class=\"dataframe\">\n",
       "  <thead>\n",
       "    <tr style=\"text-align: right;\">\n",
       "      <th></th>\n",
       "      <th>Product_Name</th>\n",
       "      <th>userID</th>\n",
       "      <th>helpfulness</th>\n",
       "      <th>rate</th>\n",
       "      <th>text</th>\n",
       "      <th>helpful</th>\n",
       "      <th>total_vote</th>\n",
       "      <th>help_percentage</th>\n",
       "    </tr>\n",
       "  </thead>\n",
       "  <tbody>\n",
       "    <tr>\n",
       "      <th>1</th>\n",
       "      <td>Jabra EarGels - Clear</td>\n",
       "      <td>A2GF8B306HPMIR</td>\n",
       "      <td>45/46</td>\n",
       "      <td>4.0</td>\n",
       "      <td>I was in hell with my Jawbone until I got thes...</td>\n",
       "      <td>45</td>\n",
       "      <td>46</td>\n",
       "      <td>0.978261</td>\n",
       "    </tr>\n",
       "    <tr>\n",
       "      <th>0</th>\n",
       "      <td>Jabra EarGels - Clear</td>\n",
       "      <td>A24IASWJ7MYWSQ</td>\n",
       "      <td>220/227</td>\n",
       "      <td>4.0</td>\n",
       "      <td>Length:Great Compliment to Jawbone 2</td>\n",
       "      <td>220</td>\n",
       "      <td>227</td>\n",
       "      <td>0.969163</td>\n",
       "    </tr>\n",
       "    <tr>\n",
       "      <th>2</th>\n",
       "      <td>Jabra EarGels - Clear</td>\n",
       "      <td>AI7PVP3KWZBUG</td>\n",
       "      <td>28/29</td>\n",
       "      <td>5.0</td>\n",
       "      <td>Works Perfectly with Jawbone II. Jawbone is th...</td>\n",
       "      <td>28</td>\n",
       "      <td>29</td>\n",
       "      <td>0.965517</td>\n",
       "    </tr>\n",
       "  </tbody>\n",
       "</table>\n",
       "</div>"
      ],
      "text/plain": [
       "            Product_Name          userID helpfulness  rate  \\\n",
       "1  Jabra EarGels - Clear  A2GF8B306HPMIR       45/46   4.0   \n",
       "0  Jabra EarGels - Clear  A24IASWJ7MYWSQ     220/227   4.0   \n",
       "2  Jabra EarGels - Clear   AI7PVP3KWZBUG       28/29   5.0   \n",
       "\n",
       "                                                text  helpful  total_vote  \\\n",
       "1  I was in hell with my Jawbone until I got thes...       45          46   \n",
       "0               Length:Great Compliment to Jawbone 2      220         227   \n",
       "2  Works Perfectly with Jawbone II. Jawbone is th...       28          29   \n",
       "\n",
       "   help_percentage  \n",
       "1         0.978261  \n",
       "0         0.969163  \n",
       "2         0.965517  "
      ]
     },
     "execution_count": 65,
     "metadata": {},
     "output_type": "execute_result"
    }
   ],
   "source": [
    "best_opinions(df3['Product_Name'][0])"
   ]
  },
  {
   "cell_type": "markdown",
   "metadata": {},
   "source": [
    "# Most active users"
   ]
  },
  {
   "cell_type": "code",
   "execution_count": 66,
   "metadata": {},
   "outputs": [
    {
     "data": {
      "text/plain": [
       "userID\n",
       "A1RCGK44YXNBBB    44\n",
       "A5JLAU2ARJ0BO     44\n",
       "A2C8IPPOF90CJG    38\n",
       "A33FS5H3CPDR6D    31\n",
       "A4IX5FZOWQVQN     26\n",
       "A3ILVGZSKUCC5Z    24\n",
       "A149RNR5RH19YY    23\n",
       "AJMBX04BZWPSD     21\n",
       "A1SFCPHZK18NEH    20\n",
       "A2KRKPJBMHION0    18\n",
       "A1N5FSCYN4796F    17\n",
       "A1F9Z42CFF9IAY    17\n",
       "A2XQLC4BK7E266    16\n",
       "A3PM1QNZ1O8EXF    16\n",
       "A339F4I8GBN3H3    16\n",
       "A3225WITBT2B09    14\n",
       "A3SO1NVAN1TI03    13\n",
       "A3OQPZ3ORSZKQD    13\n",
       "A10U3Z35FCPXF2    12\n",
       "A3MQS2KZCUM1IZ    12\n",
       "Name: userID, dtype: int64"
      ]
     },
     "execution_count": 66,
     "metadata": {},
     "output_type": "execute_result"
    }
   ],
   "source": [
    "df.groupby(['userID']).userID.count().sort_values(ascending=False).head(20)\n"
   ]
  },
  {
   "cell_type": "code",
   "execution_count": 67,
   "metadata": {},
   "outputs": [
    {
     "data": {
      "text/html": [
       "<div>\n",
       "<style scoped>\n",
       "    .dataframe tbody tr th:only-of-type {\n",
       "        vertical-align: middle;\n",
       "    }\n",
       "\n",
       "    .dataframe tbody tr th {\n",
       "        vertical-align: top;\n",
       "    }\n",
       "\n",
       "    .dataframe thead th {\n",
       "        text-align: right;\n",
       "    }\n",
       "</style>\n",
       "<table border=\"1\" class=\"dataframe\">\n",
       "  <thead>\n",
       "    <tr style=\"text-align: right;\">\n",
       "      <th></th>\n",
       "      <th>ProductID</th>\n",
       "      <th>Product_Name</th>\n",
       "      <th>Price</th>\n",
       "      <th>userID</th>\n",
       "      <th>User_Name</th>\n",
       "      <th>helpfulness</th>\n",
       "      <th>rate</th>\n",
       "      <th>time</th>\n",
       "      <th>summary</th>\n",
       "      <th>text</th>\n",
       "      <th>type_of_review</th>\n",
       "      <th>year</th>\n",
       "      <th>bad_rate</th>\n",
       "    </tr>\n",
       "  </thead>\n",
       "  <tbody>\n",
       "    <tr>\n",
       "      <th>3493</th>\n",
       "      <td>B000FOEN9K</td>\n",
       "      <td>Wall AC Adapter Travel Charger [w/ IC Chip] fo...</td>\n",
       "      <td>2.95</td>\n",
       "      <td>A1RCGK44YXNBBB</td>\n",
       "      <td>Brendon Edwards</td>\n",
       "      <td>0/0</td>\n",
       "      <td>5.0</td>\n",
       "      <td>2007-05-07</td>\n",
       "      <td>great product highly recommended!</td>\n",
       "      <td>Easy to use, if you have a Samsung phone, this...</td>\n",
       "      <td>Positive</td>\n",
       "      <td>2007</td>\n",
       "      <td>0</td>\n",
       "    </tr>\n",
       "    <tr>\n",
       "      <th>5212</th>\n",
       "      <td>B00074V0JY</td>\n",
       "      <td>Motorola Lithium-Ion Battery BR50 / SNN5696 / ...</td>\n",
       "      <td>4.51</td>\n",
       "      <td>A1RCGK44YXNBBB</td>\n",
       "      <td>Brendon Edwards</td>\n",
       "      <td>2/3</td>\n",
       "      <td>5.0</td>\n",
       "      <td>2007-04-20</td>\n",
       "      <td>Cheap and with good quality</td>\n",
       "      <td>I lost the charge for my Motorola RAZR V3, and...</td>\n",
       "      <td>Positive</td>\n",
       "      <td>2007</td>\n",
       "      <td>0</td>\n",
       "    </tr>\n",
       "    <tr>\n",
       "      <th>6682</th>\n",
       "      <td>B00006690A</td>\n",
       "      <td>Jabra EarBoom Winder for Phones with Universal...</td>\n",
       "      <td>6.49</td>\n",
       "      <td>A1RCGK44YXNBBB</td>\n",
       "      <td>Brendon Edwards</td>\n",
       "      <td>1/1</td>\n",
       "      <td>5.0</td>\n",
       "      <td>2007-05-03</td>\n",
       "      <td>Great headset!</td>\n",
       "      <td>As usual, on time delivery and the product wor...</td>\n",
       "      <td>Positive</td>\n",
       "      <td>2007</td>\n",
       "      <td>0</td>\n",
       "    </tr>\n",
       "    <tr>\n",
       "      <th>9276</th>\n",
       "      <td>B000EBHW4W</td>\n",
       "      <td>MOTOROLA OEM BR50 BATTERY FOR RAZR V3 V3c V3m ...</td>\n",
       "      <td>4.90</td>\n",
       "      <td>A1RCGK44YXNBBB</td>\n",
       "      <td>Brendon Edwards</td>\n",
       "      <td>3/4</td>\n",
       "      <td>5.0</td>\n",
       "      <td>2007-04-22</td>\n",
       "      <td>genuine Motorals battery</td>\n",
       "      <td>The battery arrived as promised and it has wor...</td>\n",
       "      <td>Positive</td>\n",
       "      <td>2007</td>\n",
       "      <td>0</td>\n",
       "    </tr>\n",
       "    <tr>\n",
       "      <th>9289</th>\n",
       "      <td>B000EBHW4W</td>\n",
       "      <td>MOTOROLA OEM BR50 BATTERY FOR RAZR V3 V3c V3m ...</td>\n",
       "      <td>4.90</td>\n",
       "      <td>A1RCGK44YXNBBB</td>\n",
       "      <td>Brendon Edwards</td>\n",
       "      <td>3/4</td>\n",
       "      <td>5.0</td>\n",
       "      <td>2007-04-22</td>\n",
       "      <td>genuine Motorals battery</td>\n",
       "      <td>The battery arrived as promised and it has wor...</td>\n",
       "      <td>Positive</td>\n",
       "      <td>2007</td>\n",
       "      <td>0</td>\n",
       "    </tr>\n",
       "    <tr>\n",
       "      <th>9652</th>\n",
       "      <td>B000NHS9YE</td>\n",
       "      <td>Samsung ALIAS U740 SCH-U740 A437 SGH-A437 SYNC...</td>\n",
       "      <td>5.00</td>\n",
       "      <td>A1RCGK44YXNBBB</td>\n",
       "      <td>Brendon Edwards</td>\n",
       "      <td>0/0</td>\n",
       "      <td>5.0</td>\n",
       "      <td>2007-05-15</td>\n",
       "      <td>Works great with a great price</td>\n",
       "      <td>This is a good product with a great price. All...</td>\n",
       "      <td>Positive</td>\n",
       "      <td>2007</td>\n",
       "      <td>0</td>\n",
       "    </tr>\n",
       "    <tr>\n",
       "      <th>10682</th>\n",
       "      <td>B000DZUJ9Y</td>\n",
       "      <td>NOKIA DKU-5 USB Data Charging Cable</td>\n",
       "      <td>8.99</td>\n",
       "      <td>A1RCGK44YXNBBB</td>\n",
       "      <td>Brendon Edwards</td>\n",
       "      <td>0/0</td>\n",
       "      <td>5.0</td>\n",
       "      <td>2007-05-09</td>\n",
       "      <td>Works well</td>\n",
       "      <td>I was very pleased with the price and quality ...</td>\n",
       "      <td>Positive</td>\n",
       "      <td>2007</td>\n",
       "      <td>0</td>\n",
       "    </tr>\n",
       "    <tr>\n",
       "      <th>15221</th>\n",
       "      <td>B000FOHE6E</td>\n",
       "      <td></td>\n",
       "      <td>NaN</td>\n",
       "      <td>A1RCGK44YXNBBB</td>\n",
       "      <td>Brendon Edwards</td>\n",
       "      <td>0/0</td>\n",
       "      <td>5.0</td>\n",
       "      <td>2007-05-15</td>\n",
       "      <td>cool case!</td>\n",
       "      <td>the case looks great and fits great and for th...</td>\n",
       "      <td>Positive</td>\n",
       "      <td>2007</td>\n",
       "      <td>0</td>\n",
       "    </tr>\n",
       "    <tr>\n",
       "      <th>17176</th>\n",
       "      <td>B000NHXNCC</td>\n",
       "      <td>Original Motorola K1m Li-Ion Standard Battery ...</td>\n",
       "      <td>4.60</td>\n",
       "      <td>A1RCGK44YXNBBB</td>\n",
       "      <td>Brendon Edwards</td>\n",
       "      <td>6/6</td>\n",
       "      <td>5.0</td>\n",
       "      <td>2007-05-09</td>\n",
       "      <td>Good buy!</td>\n",
       "      <td>It is exactly an oem product.The seller eforci...</td>\n",
       "      <td>Positive</td>\n",
       "      <td>2007</td>\n",
       "      <td>0</td>\n",
       "    </tr>\n",
       "    <tr>\n",
       "      <th>23511</th>\n",
       "      <td>B000FGZRFC</td>\n",
       "      <td>Motorola RAZR V3 &amp; V3c Pink Silicone Skin Case</td>\n",
       "      <td>NaN</td>\n",
       "      <td>A1RCGK44YXNBBB</td>\n",
       "      <td>Brendon Edwards</td>\n",
       "      <td>0/0</td>\n",
       "      <td>5.0</td>\n",
       "      <td>2007-05-07</td>\n",
       "      <td>Good buy!</td>\n",
       "      <td>The item arrived in perfect condition. The cas...</td>\n",
       "      <td>Positive</td>\n",
       "      <td>2007</td>\n",
       "      <td>0</td>\n",
       "    </tr>\n",
       "    <tr>\n",
       "      <th>25386</th>\n",
       "      <td>B000PNWZSW</td>\n",
       "      <td>Samsung Leather Pouch for Blackjack SGH-I60</td>\n",
       "      <td>4.69</td>\n",
       "      <td>A1RCGK44YXNBBB</td>\n",
       "      <td>Brendon Edwards</td>\n",
       "      <td>0/3</td>\n",
       "      <td>5.0</td>\n",
       "      <td>2007-05-07</td>\n",
       "      <td>Nice case!</td>\n",
       "      <td>The case arrived in a timely manner. It fits t...</td>\n",
       "      <td>Positive</td>\n",
       "      <td>2007</td>\n",
       "      <td>0</td>\n",
       "    </tr>\n",
       "    <tr>\n",
       "      <th>26146</th>\n",
       "      <td>B000F97CDY</td>\n",
       "      <td>Laser Red Clip-on Case for Motorola Razr V3c</td>\n",
       "      <td>NaN</td>\n",
       "      <td>A1RCGK44YXNBBB</td>\n",
       "      <td>Brendon Edwards</td>\n",
       "      <td>1/1</td>\n",
       "      <td>5.0</td>\n",
       "      <td>2007-05-18</td>\n",
       "      <td>Love it!</td>\n",
       "      <td>The case arrived as promised and it is well fi...</td>\n",
       "      <td>Positive</td>\n",
       "      <td>2007</td>\n",
       "      <td>0</td>\n",
       "    </tr>\n",
       "    <tr>\n",
       "      <th>26853</th>\n",
       "      <td>B000JFMYN2</td>\n",
       "      <td>eForCity USB Data and Charging Cable Compatibl...</td>\n",
       "      <td>3.30</td>\n",
       "      <td>A1RCGK44YXNBBB</td>\n",
       "      <td>Brendon Edwards</td>\n",
       "      <td>1/2</td>\n",
       "      <td>5.0</td>\n",
       "      <td>2007-05-03</td>\n",
       "      <td>Great product, great price!</td>\n",
       "      <td>The price was right, set up was easy. I was un...</td>\n",
       "      <td>Positive</td>\n",
       "      <td>2007</td>\n",
       "      <td>0</td>\n",
       "    </tr>\n",
       "    <tr>\n",
       "      <th>29639</th>\n",
       "      <td>B000GU31W8</td>\n",
       "      <td>Scratch Resistant Screen Guard Protector LCD S...</td>\n",
       "      <td>2.46</td>\n",
       "      <td>A1RCGK44YXNBBB</td>\n",
       "      <td>Brendon Edwards</td>\n",
       "      <td>0/0</td>\n",
       "      <td>5.0</td>\n",
       "      <td>2007-05-17</td>\n",
       "      <td>Works well</td>\n",
       "      <td>It fits my Sony Ericsson W810 screen perfectly...</td>\n",
       "      <td>Positive</td>\n",
       "      <td>2007</td>\n",
       "      <td>0</td>\n",
       "    </tr>\n",
       "    <tr>\n",
       "      <th>31043</th>\n",
       "      <td>B000EA0HVI</td>\n",
       "      <td>LG OEM LGIP-A1000E BATTERY FOR VX3300 VX8100</td>\n",
       "      <td>3.01</td>\n",
       "      <td>A1RCGK44YXNBBB</td>\n",
       "      <td>Brendon Edwards</td>\n",
       "      <td>0/0</td>\n",
       "      <td>5.0</td>\n",
       "      <td>2007-04-23</td>\n",
       "      <td>good replacement!</td>\n",
       "      <td>Battery is much better than the original that ...</td>\n",
       "      <td>Positive</td>\n",
       "      <td>2007</td>\n",
       "      <td>0</td>\n",
       "    </tr>\n",
       "    <tr>\n",
       "      <th>36071</th>\n",
       "      <td>B000FOGMTY</td>\n",
       "      <td>Original LG AX-4270 / VX-4270 / AX-4750 / UX-4...</td>\n",
       "      <td>3.99</td>\n",
       "      <td>A1RCGK44YXNBBB</td>\n",
       "      <td>Brendon Edwards</td>\n",
       "      <td>1/1</td>\n",
       "      <td>5.0</td>\n",
       "      <td>2007-05-07</td>\n",
       "      <td>Great deal!</td>\n",
       "      <td>This charger is excellent. Worked as advertise...</td>\n",
       "      <td>Positive</td>\n",
       "      <td>2007</td>\n",
       "      <td>0</td>\n",
       "    </tr>\n",
       "    <tr>\n",
       "      <th>36280</th>\n",
       "      <td>B000JEWWO4</td>\n",
       "      <td>Clear Crystal Case for Sony Ericsson W810</td>\n",
       "      <td>NaN</td>\n",
       "      <td>A1RCGK44YXNBBB</td>\n",
       "      <td>Brendon Edwards</td>\n",
       "      <td>0/2</td>\n",
       "      <td>4.0</td>\n",
       "      <td>2007-04-27</td>\n",
       "      <td>Good crystal case</td>\n",
       "      <td>i bought this case for my mother. This item fi...</td>\n",
       "      <td>Positive</td>\n",
       "      <td>2007</td>\n",
       "      <td>0</td>\n",
       "    </tr>\n",
       "    <tr>\n",
       "      <th>36453</th>\n",
       "      <td>B000H0W9FM</td>\n",
       "      <td></td>\n",
       "      <td>NaN</td>\n",
       "      <td>A1RCGK44YXNBBB</td>\n",
       "      <td>Brendon Edwards</td>\n",
       "      <td>0/0</td>\n",
       "      <td>5.0</td>\n",
       "      <td>2007-05-15</td>\n",
       "      <td>Good buy!</td>\n",
       "      <td>I like this crystal case. It is well made and ...</td>\n",
       "      <td>Positive</td>\n",
       "      <td>2007</td>\n",
       "      <td>0</td>\n",
       "    </tr>\n",
       "    <tr>\n",
       "      <th>37310</th>\n",
       "      <td>B000GFDJES</td>\n",
       "      <td>Stylus for Audiovox 6600 / 6700 HTC Apache UTS...</td>\n",
       "      <td>2.28</td>\n",
       "      <td>A1RCGK44YXNBBB</td>\n",
       "      <td>Brendon Edwards</td>\n",
       "      <td>0/0</td>\n",
       "      <td>5.0</td>\n",
       "      <td>2007-04-27</td>\n",
       "      <td>Good stylus</td>\n",
       "      <td>I bouthgt this item from Eforcity as the origi...</td>\n",
       "      <td>Positive</td>\n",
       "      <td>2007</td>\n",
       "      <td>0</td>\n",
       "    </tr>\n",
       "    <tr>\n",
       "      <th>37319</th>\n",
       "      <td>B000GFDJEI</td>\n",
       "      <td>Replacement Li-Ion Standard Battery for Audiov...</td>\n",
       "      <td>5.36</td>\n",
       "      <td>A1RCGK44YXNBBB</td>\n",
       "      <td>Brendon Edwards</td>\n",
       "      <td>0/0</td>\n",
       "      <td>5.0</td>\n",
       "      <td>2007-05-07</td>\n",
       "      <td>Great service !</td>\n",
       "      <td>Battery is as ordered and shipping was timely....</td>\n",
       "      <td>Positive</td>\n",
       "      <td>2007</td>\n",
       "      <td>0</td>\n",
       "    </tr>\n",
       "    <tr>\n",
       "      <th>40009</th>\n",
       "      <td>B000FAQ6S0</td>\n",
       "      <td>eForCity Universal USB Car Charger Single Port</td>\n",
       "      <td>2.35</td>\n",
       "      <td>A1RCGK44YXNBBB</td>\n",
       "      <td>Brendon Edwards</td>\n",
       "      <td>1/1</td>\n",
       "      <td>5.0</td>\n",
       "      <td>2007-05-14</td>\n",
       "      <td>Great, inexpensive product</td>\n",
       "      <td>I received in great time and it was as if brou...</td>\n",
       "      <td>Positive</td>\n",
       "      <td>2007</td>\n",
       "      <td>0</td>\n",
       "    </tr>\n",
       "    <tr>\n",
       "      <th>40983</th>\n",
       "      <td>B000JKKE5M</td>\n",
       "      <td>Motorola T305 Bluetooth Portable Car Speaker</td>\n",
       "      <td>34.99</td>\n",
       "      <td>A1RCGK44YXNBBB</td>\n",
       "      <td>Brendon Edwards</td>\n",
       "      <td>2/3</td>\n",
       "      <td>5.0</td>\n",
       "      <td>2007-05-03</td>\n",
       "      <td>Great speaker</td>\n",
       "      <td>This device paired right away with my Motorola...</td>\n",
       "      <td>Positive</td>\n",
       "      <td>2007</td>\n",
       "      <td>0</td>\n",
       "    </tr>\n",
       "    <tr>\n",
       "      <th>43583</th>\n",
       "      <td>B000JGH8C8</td>\n",
       "      <td>eForCity PREMIUM RAPID CAR CHARGER WITH IC CHI...</td>\n",
       "      <td>3.49</td>\n",
       "      <td>A1RCGK44YXNBBB</td>\n",
       "      <td>Brendon Edwards</td>\n",
       "      <td>0/0</td>\n",
       "      <td>5.0</td>\n",
       "      <td>2007-05-18</td>\n",
       "      <td>Great deal!</td>\n",
       "      <td>Great and affordable car charger. Never a prob...</td>\n",
       "      <td>Positive</td>\n",
       "      <td>2007</td>\n",
       "      <td>0</td>\n",
       "    </tr>\n",
       "    <tr>\n",
       "      <th>44685</th>\n",
       "      <td>B0009H2M1Y</td>\n",
       "      <td>Motorola Mini USB Wall Charger for Motorola Ph...</td>\n",
       "      <td>4.51</td>\n",
       "      <td>A1RCGK44YXNBBB</td>\n",
       "      <td>Brendon Edwards</td>\n",
       "      <td>0/1</td>\n",
       "      <td>5.0</td>\n",
       "      <td>2007-04-20</td>\n",
       "      <td>Good Charger</td>\n",
       "      <td>Since I spend a lot of time for travling in my...</td>\n",
       "      <td>Positive</td>\n",
       "      <td>2007</td>\n",
       "      <td>0</td>\n",
       "    </tr>\n",
       "    <tr>\n",
       "      <th>46626</th>\n",
       "      <td>B00074JWH6</td>\n",
       "      <td>Motorola Y Charger Adapter CH706 (CE bus/Mini ...</td>\n",
       "      <td>3.44</td>\n",
       "      <td>A1RCGK44YXNBBB</td>\n",
       "      <td>Brendon Edwards</td>\n",
       "      <td>0/0</td>\n",
       "      <td>5.0</td>\n",
       "      <td>2007-04-23</td>\n",
       "      <td>nice product with reasonable price</td>\n",
       "      <td>The item arrived in perfect condition and it i...</td>\n",
       "      <td>Positive</td>\n",
       "      <td>2007</td>\n",
       "      <td>0</td>\n",
       "    </tr>\n",
       "    <tr>\n",
       "      <th>47117</th>\n",
       "      <td>B000PR0UBM</td>\n",
       "      <td>Motorola Bluetooth Pouch w/Clip</td>\n",
       "      <td>14.99</td>\n",
       "      <td>A1RCGK44YXNBBB</td>\n",
       "      <td>Brendon Edwards</td>\n",
       "      <td>0/0</td>\n",
       "      <td>5.0</td>\n",
       "      <td>2009-07-27</td>\n",
       "      <td>A+ product!</td>\n",
       "      <td>Such a great pouch for my bluetooth headset. T...</td>\n",
       "      <td>Positive</td>\n",
       "      <td>2009</td>\n",
       "      <td>0</td>\n",
       "    </tr>\n",
       "    <tr>\n",
       "      <th>53287</th>\n",
       "      <td>B000DZY0PI</td>\n",
       "      <td>Eforcity USB Data and Charging Cable for LG AX...</td>\n",
       "      <td>NaN</td>\n",
       "      <td>A1RCGK44YXNBBB</td>\n",
       "      <td>Brendon Edwards</td>\n",
       "      <td>0/0</td>\n",
       "      <td>5.0</td>\n",
       "      <td>2007-05-04</td>\n",
       "      <td>Greatest item ever!</td>\n",
       "      <td>This sync and charging cable is excellent! The...</td>\n",
       "      <td>Positive</td>\n",
       "      <td>2007</td>\n",
       "      <td>0</td>\n",
       "    </tr>\n",
       "    <tr>\n",
       "      <th>54526</th>\n",
       "      <td>B000NBZ12I</td>\n",
       "      <td>Neoprene Case for Samsung BlackJack i607, Black</td>\n",
       "      <td>NaN</td>\n",
       "      <td>A1RCGK44YXNBBB</td>\n",
       "      <td>Brendon Edwards</td>\n",
       "      <td>2/2</td>\n",
       "      <td>5.0</td>\n",
       "      <td>2007-05-10</td>\n",
       "      <td>Recommended</td>\n",
       "      <td>Very durable good quality case. The case arriv...</td>\n",
       "      <td>Positive</td>\n",
       "      <td>2007</td>\n",
       "      <td>0</td>\n",
       "    </tr>\n",
       "    <tr>\n",
       "      <th>57509</th>\n",
       "      <td>B000JEZPOI</td>\n",
       "      <td>Home Wall AC Travel Charger for LG Chocolate V...</td>\n",
       "      <td>0.49</td>\n",
       "      <td>A1RCGK44YXNBBB</td>\n",
       "      <td>Brendon Edwards</td>\n",
       "      <td>0/0</td>\n",
       "      <td>5.0</td>\n",
       "      <td>2007-05-18</td>\n",
       "      <td>exactly what was advertised!</td>\n",
       "      <td>It works great, till now no problems with it. ...</td>\n",
       "      <td>Positive</td>\n",
       "      <td>2007</td>\n",
       "      <td>0</td>\n",
       "    </tr>\n",
       "    <tr>\n",
       "      <th>57563</th>\n",
       "      <td>B000EBJZQU</td>\n",
       "      <td>OEM MOTOROLA NEXTEL SNN5705 BATTERY FOR I560 I...</td>\n",
       "      <td>5.00</td>\n",
       "      <td>A1RCGK44YXNBBB</td>\n",
       "      <td>Brendon Edwards</td>\n",
       "      <td>6/6</td>\n",
       "      <td>4.0</td>\n",
       "      <td>2007-04-27</td>\n",
       "      <td>Excellent battery</td>\n",
       "      <td>The battery works very well. After bringing it...</td>\n",
       "      <td>Positive</td>\n",
       "      <td>2007</td>\n",
       "      <td>0</td>\n",
       "    </tr>\n",
       "    <tr>\n",
       "      <th>58946</th>\n",
       "      <td>B000GBGP98</td>\n",
       "      <td>Motorola V3 RAZR Swivel Leather Pouch</td>\n",
       "      <td>6.99</td>\n",
       "      <td>A1RCGK44YXNBBB</td>\n",
       "      <td>Brendon Edwards</td>\n",
       "      <td>1/1</td>\n",
       "      <td>5.0</td>\n",
       "      <td>2007-05-18</td>\n",
       "      <td>best case I 've ever owned!</td>\n",
       "      <td>The seller Eforcity shipped out the same day, ...</td>\n",
       "      <td>Positive</td>\n",
       "      <td>2007</td>\n",
       "      <td>0</td>\n",
       "    </tr>\n",
       "    <tr>\n",
       "      <th>59744</th>\n",
       "      <td>B000CEC1Q0</td>\n",
       "      <td>Insten - Retractable USB Hotsync Cable for App...</td>\n",
       "      <td>NaN</td>\n",
       "      <td>A1RCGK44YXNBBB</td>\n",
       "      <td>Brendon Edwards</td>\n",
       "      <td>0/0</td>\n",
       "      <td>5.0</td>\n",
       "      <td>2007-05-21</td>\n",
       "      <td>Great cable</td>\n",
       "      <td>This little thing is a saver - carry it in my ...</td>\n",
       "      <td>Positive</td>\n",
       "      <td>2007</td>\n",
       "      <td>0</td>\n",
       "    </tr>\n",
       "    <tr>\n",
       "      <th>60861</th>\n",
       "      <td>B000H931Y6</td>\n",
       "      <td>Motorola V60,T720,V710 Mid Rate CLA</td>\n",
       "      <td>3.29</td>\n",
       "      <td>A1RCGK44YXNBBB</td>\n",
       "      <td>Brendon Edwards</td>\n",
       "      <td>1/1</td>\n",
       "      <td>5.0</td>\n",
       "      <td>2007-05-06</td>\n",
       "      <td>Great deal for a genuine Motorola!</td>\n",
       "      <td>This is the original Motorola car charger, it ...</td>\n",
       "      <td>Positive</td>\n",
       "      <td>2007</td>\n",
       "      <td>0</td>\n",
       "    </tr>\n",
       "    <tr>\n",
       "      <th>61002</th>\n",
       "      <td>B000G622RM</td>\n",
       "      <td>Nextel i560 Swiveling Holster</td>\n",
       "      <td>NaN</td>\n",
       "      <td>A1RCGK44YXNBBB</td>\n",
       "      <td>Brendon Edwards</td>\n",
       "      <td>1/1</td>\n",
       "      <td>5.0</td>\n",
       "      <td>2007-05-03</td>\n",
       "      <td>Works for me</td>\n",
       "      <td>I have purchased this item from Eforcity and a...</td>\n",
       "      <td>Positive</td>\n",
       "      <td>2007</td>\n",
       "      <td>0</td>\n",
       "    </tr>\n",
       "    <tr>\n",
       "      <th>65126</th>\n",
       "      <td>B000CEG6TS</td>\n",
       "      <td>SANOXY Apple iPhone iPod Dock Connector USB Ch...</td>\n",
       "      <td>4.95</td>\n",
       "      <td>A1RCGK44YXNBBB</td>\n",
       "      <td>Brendon Edwards</td>\n",
       "      <td>0/0</td>\n",
       "      <td>5.0</td>\n",
       "      <td>2007-05-11</td>\n",
       "      <td>It works!</td>\n",
       "      <td>It works, thats it. I tried other non apple iP...</td>\n",
       "      <td>Positive</td>\n",
       "      <td>2007</td>\n",
       "      <td>0</td>\n",
       "    </tr>\n",
       "    <tr>\n",
       "      <th>65439</th>\n",
       "      <td>B000FFLYBY</td>\n",
       "      <td>Eforcity Nokia Ca-53 Compatible USB Data Cable...</td>\n",
       "      <td>4.74</td>\n",
       "      <td>A1RCGK44YXNBBB</td>\n",
       "      <td>Brendon Edwards</td>\n",
       "      <td>0/0</td>\n",
       "      <td>5.0</td>\n",
       "      <td>2007-04-23</td>\n",
       "      <td>Excellent cable</td>\n",
       "      <td>The price is good and the cable is working wel...</td>\n",
       "      <td>Positive</td>\n",
       "      <td>2007</td>\n",
       "      <td>0</td>\n",
       "    </tr>\n",
       "    <tr>\n",
       "      <th>67373</th>\n",
       "      <td>B000EDMT34</td>\n",
       "      <td>Eforcity Wall AC Adapter Travel Charger for So...</td>\n",
       "      <td>0.59</td>\n",
       "      <td>A1RCGK44YXNBBB</td>\n",
       "      <td>Brendon Edwards</td>\n",
       "      <td>0/0</td>\n",
       "      <td>5.0</td>\n",
       "      <td>2007-05-08</td>\n",
       "      <td>love it!</td>\n",
       "      <td>It arrived in timely manner and it performs it...</td>\n",
       "      <td>Positive</td>\n",
       "      <td>2007</td>\n",
       "      <td>0</td>\n",
       "    </tr>\n",
       "    <tr>\n",
       "      <th>67524</th>\n",
       "      <td>B000EDMT7K</td>\n",
       "      <td>Eforcity Silver Boom Microphone Headset for No...</td>\n",
       "      <td>NaN</td>\n",
       "      <td>A1RCGK44YXNBBB</td>\n",
       "      <td>Brendon Edwards</td>\n",
       "      <td>0/0</td>\n",
       "      <td>5.0</td>\n",
       "      <td>2007-05-18</td>\n",
       "      <td>Works great!</td>\n",
       "      <td>Great and affordable headphone. Never a proble...</td>\n",
       "      <td>Positive</td>\n",
       "      <td>2007</td>\n",
       "      <td>0</td>\n",
       "    </tr>\n",
       "    <tr>\n",
       "      <th>67628</th>\n",
       "      <td>B000EXA02Q</td>\n",
       "      <td>Pink Aluminum Case for Apple iPod Video 30GB /...</td>\n",
       "      <td>NaN</td>\n",
       "      <td>A1RCGK44YXNBBB</td>\n",
       "      <td>Brendon Edwards</td>\n",
       "      <td>1/1</td>\n",
       "      <td>5.0</td>\n",
       "      <td>2007-05-07</td>\n",
       "      <td>All I need!</td>\n",
       "      <td>This is just what I was looking for. This case...</td>\n",
       "      <td>Positive</td>\n",
       "      <td>2007</td>\n",
       "      <td>0</td>\n",
       "    </tr>\n",
       "    <tr>\n",
       "      <th>68601</th>\n",
       "      <td>B000F95BUA</td>\n",
       "      <td>Nextel i870 / i875 Clear Swivel Belt Clip Hols...</td>\n",
       "      <td>6.99</td>\n",
       "      <td>A1RCGK44YXNBBB</td>\n",
       "      <td>Brendon Edwards</td>\n",
       "      <td>0/0</td>\n",
       "      <td>5.0</td>\n",
       "      <td>2007-05-17</td>\n",
       "      <td>excellent product</td>\n",
       "      <td>I have purchased from this company and am 100%...</td>\n",
       "      <td>Positive</td>\n",
       "      <td>2007</td>\n",
       "      <td>0</td>\n",
       "    </tr>\n",
       "    <tr>\n",
       "      <th>71422</th>\n",
       "      <td>B000DN84AM</td>\n",
       "      <td>Insten - 2.5mm Plug Headset with Answer/End Sw...</td>\n",
       "      <td>NaN</td>\n",
       "      <td>A1RCGK44YXNBBB</td>\n",
       "      <td>Brendon Edwards</td>\n",
       "      <td>2/2</td>\n",
       "      <td>5.0</td>\n",
       "      <td>2007-05-03</td>\n",
       "      <td>high quality with geat price</td>\n",
       "      <td>Great sound quality (can hear and be heard), d...</td>\n",
       "      <td>Positive</td>\n",
       "      <td>2007</td>\n",
       "      <td>0</td>\n",
       "    </tr>\n",
       "    <tr>\n",
       "      <th>73872</th>\n",
       "      <td>B000J6YAHE</td>\n",
       "      <td>Eforcity 3.5mm Stereo Headset / Speaker Adapto...</td>\n",
       "      <td>4.99</td>\n",
       "      <td>A1RCGK44YXNBBB</td>\n",
       "      <td>Brendon Edwards</td>\n",
       "      <td>3/3</td>\n",
       "      <td>5.0</td>\n",
       "      <td>2007-05-09</td>\n",
       "      <td>Exactly what I wanted!</td>\n",
       "      <td>If you prefer something more comfortable or al...</td>\n",
       "      <td>Positive</td>\n",
       "      <td>2007</td>\n",
       "      <td>0</td>\n",
       "    </tr>\n",
       "    <tr>\n",
       "      <th>76200</th>\n",
       "      <td>B000F99GT2</td>\n",
       "      <td>Eforcity Chameleon Clip-on Case for Motorola R...</td>\n",
       "      <td>NaN</td>\n",
       "      <td>A1RCGK44YXNBBB</td>\n",
       "      <td>Brendon Edwards</td>\n",
       "      <td>0/0</td>\n",
       "      <td>4.0</td>\n",
       "      <td>2007-04-27</td>\n",
       "      <td>Good case</td>\n",
       "      <td>I bought this case for my father. He likes thi...</td>\n",
       "      <td>Positive</td>\n",
       "      <td>2007</td>\n",
       "      <td>0</td>\n",
       "    </tr>\n",
       "    <tr>\n",
       "      <th>78056</th>\n",
       "      <td>B000NOZLE8</td>\n",
       "      <td>Premium Clip-On Case w/Belt Clip for Motorola ...</td>\n",
       "      <td>NaN</td>\n",
       "      <td>A1RCGK44YXNBBB</td>\n",
       "      <td>Brendon Edwards</td>\n",
       "      <td>0/1</td>\n",
       "      <td>5.0</td>\n",
       "      <td>2007-06-04</td>\n",
       "      <td>Exactly what I wanted!</td>\n",
       "      <td>It works great, the seller eforcity shipped ou...</td>\n",
       "      <td>Positive</td>\n",
       "      <td>2007</td>\n",
       "      <td>0</td>\n",
       "    </tr>\n",
       "  </tbody>\n",
       "</table>\n",
       "</div>"
      ],
      "text/plain": [
       "        ProductID                                       Product_Name  Price  \\\n",
       "3493   B000FOEN9K  Wall AC Adapter Travel Charger [w/ IC Chip] fo...   2.95   \n",
       "5212   B00074V0JY  Motorola Lithium-Ion Battery BR50 / SNN5696 / ...   4.51   \n",
       "6682   B00006690A  Jabra EarBoom Winder for Phones with Universal...   6.49   \n",
       "9276   B000EBHW4W  MOTOROLA OEM BR50 BATTERY FOR RAZR V3 V3c V3m ...   4.90   \n",
       "9289   B000EBHW4W  MOTOROLA OEM BR50 BATTERY FOR RAZR V3 V3c V3m ...   4.90   \n",
       "9652   B000NHS9YE  Samsung ALIAS U740 SCH-U740 A437 SGH-A437 SYNC...   5.00   \n",
       "10682  B000DZUJ9Y                NOKIA DKU-5 USB Data Charging Cable   8.99   \n",
       "15221  B000FOHE6E                                                       NaN   \n",
       "17176  B000NHXNCC  Original Motorola K1m Li-Ion Standard Battery ...   4.60   \n",
       "23511  B000FGZRFC     Motorola RAZR V3 & V3c Pink Silicone Skin Case    NaN   \n",
       "25386  B000PNWZSW        Samsung Leather Pouch for Blackjack SGH-I60   4.69   \n",
       "26146  B000F97CDY       Laser Red Clip-on Case for Motorola Razr V3c    NaN   \n",
       "26853  B000JFMYN2  eForCity USB Data and Charging Cable Compatibl...   3.30   \n",
       "29639  B000GU31W8  Scratch Resistant Screen Guard Protector LCD S...   2.46   \n",
       "31043  B000EA0HVI       LG OEM LGIP-A1000E BATTERY FOR VX3300 VX8100   3.01   \n",
       "36071  B000FOGMTY  Original LG AX-4270 / VX-4270 / AX-4750 / UX-4...   3.99   \n",
       "36280  B000JEWWO4          Clear Crystal Case for Sony Ericsson W810    NaN   \n",
       "36453  B000H0W9FM                                                       NaN   \n",
       "37310  B000GFDJES  Stylus for Audiovox 6600 / 6700 HTC Apache UTS...   2.28   \n",
       "37319  B000GFDJEI  Replacement Li-Ion Standard Battery for Audiov...   5.36   \n",
       "40009  B000FAQ6S0     eForCity Universal USB Car Charger Single Port   2.35   \n",
       "40983  B000JKKE5M       Motorola T305 Bluetooth Portable Car Speaker  34.99   \n",
       "43583  B000JGH8C8  eForCity PREMIUM RAPID CAR CHARGER WITH IC CHI...   3.49   \n",
       "44685  B0009H2M1Y  Motorola Mini USB Wall Charger for Motorola Ph...   4.51   \n",
       "46626  B00074JWH6  Motorola Y Charger Adapter CH706 (CE bus/Mini ...   3.44   \n",
       "47117  B000PR0UBM                    Motorola Bluetooth Pouch w/Clip  14.99   \n",
       "53287  B000DZY0PI  Eforcity USB Data and Charging Cable for LG AX...    NaN   \n",
       "54526  B000NBZ12I    Neoprene Case for Samsung BlackJack i607, Black    NaN   \n",
       "57509  B000JEZPOI  Home Wall AC Travel Charger for LG Chocolate V...   0.49   \n",
       "57563  B000EBJZQU  OEM MOTOROLA NEXTEL SNN5705 BATTERY FOR I560 I...   5.00   \n",
       "58946  B000GBGP98              Motorola V3 RAZR Swivel Leather Pouch   6.99   \n",
       "59744  B000CEC1Q0  Insten - Retractable USB Hotsync Cable for App...    NaN   \n",
       "60861  B000H931Y6                Motorola V60,T720,V710 Mid Rate CLA   3.29   \n",
       "61002  B000G622RM                      Nextel i560 Swiveling Holster    NaN   \n",
       "65126  B000CEG6TS  SANOXY Apple iPhone iPod Dock Connector USB Ch...   4.95   \n",
       "65439  B000FFLYBY  Eforcity Nokia Ca-53 Compatible USB Data Cable...   4.74   \n",
       "67373  B000EDMT34  Eforcity Wall AC Adapter Travel Charger for So...   0.59   \n",
       "67524  B000EDMT7K  Eforcity Silver Boom Microphone Headset for No...    NaN   \n",
       "67628  B000EXA02Q  Pink Aluminum Case for Apple iPod Video 30GB /...    NaN   \n",
       "68601  B000F95BUA  Nextel i870 / i875 Clear Swivel Belt Clip Hols...   6.99   \n",
       "71422  B000DN84AM  Insten - 2.5mm Plug Headset with Answer/End Sw...    NaN   \n",
       "73872  B000J6YAHE  Eforcity 3.5mm Stereo Headset / Speaker Adapto...   4.99   \n",
       "76200  B000F99GT2  Eforcity Chameleon Clip-on Case for Motorola R...    NaN   \n",
       "78056  B000NOZLE8  Premium Clip-On Case w/Belt Clip for Motorola ...    NaN   \n",
       "\n",
       "               userID        User_Name helpfulness  rate       time  \\\n",
       "3493   A1RCGK44YXNBBB  Brendon Edwards         0/0   5.0 2007-05-07   \n",
       "5212   A1RCGK44YXNBBB  Brendon Edwards         2/3   5.0 2007-04-20   \n",
       "6682   A1RCGK44YXNBBB  Brendon Edwards         1/1   5.0 2007-05-03   \n",
       "9276   A1RCGK44YXNBBB  Brendon Edwards         3/4   5.0 2007-04-22   \n",
       "9289   A1RCGK44YXNBBB  Brendon Edwards         3/4   5.0 2007-04-22   \n",
       "9652   A1RCGK44YXNBBB  Brendon Edwards         0/0   5.0 2007-05-15   \n",
       "10682  A1RCGK44YXNBBB  Brendon Edwards         0/0   5.0 2007-05-09   \n",
       "15221  A1RCGK44YXNBBB  Brendon Edwards         0/0   5.0 2007-05-15   \n",
       "17176  A1RCGK44YXNBBB  Brendon Edwards         6/6   5.0 2007-05-09   \n",
       "23511  A1RCGK44YXNBBB  Brendon Edwards         0/0   5.0 2007-05-07   \n",
       "25386  A1RCGK44YXNBBB  Brendon Edwards         0/3   5.0 2007-05-07   \n",
       "26146  A1RCGK44YXNBBB  Brendon Edwards         1/1   5.0 2007-05-18   \n",
       "26853  A1RCGK44YXNBBB  Brendon Edwards         1/2   5.0 2007-05-03   \n",
       "29639  A1RCGK44YXNBBB  Brendon Edwards         0/0   5.0 2007-05-17   \n",
       "31043  A1RCGK44YXNBBB  Brendon Edwards         0/0   5.0 2007-04-23   \n",
       "36071  A1RCGK44YXNBBB  Brendon Edwards         1/1   5.0 2007-05-07   \n",
       "36280  A1RCGK44YXNBBB  Brendon Edwards         0/2   4.0 2007-04-27   \n",
       "36453  A1RCGK44YXNBBB  Brendon Edwards         0/0   5.0 2007-05-15   \n",
       "37310  A1RCGK44YXNBBB  Brendon Edwards         0/0   5.0 2007-04-27   \n",
       "37319  A1RCGK44YXNBBB  Brendon Edwards         0/0   5.0 2007-05-07   \n",
       "40009  A1RCGK44YXNBBB  Brendon Edwards         1/1   5.0 2007-05-14   \n",
       "40983  A1RCGK44YXNBBB  Brendon Edwards         2/3   5.0 2007-05-03   \n",
       "43583  A1RCGK44YXNBBB  Brendon Edwards         0/0   5.0 2007-05-18   \n",
       "44685  A1RCGK44YXNBBB  Brendon Edwards         0/1   5.0 2007-04-20   \n",
       "46626  A1RCGK44YXNBBB  Brendon Edwards         0/0   5.0 2007-04-23   \n",
       "47117  A1RCGK44YXNBBB  Brendon Edwards         0/0   5.0 2009-07-27   \n",
       "53287  A1RCGK44YXNBBB  Brendon Edwards         0/0   5.0 2007-05-04   \n",
       "54526  A1RCGK44YXNBBB  Brendon Edwards         2/2   5.0 2007-05-10   \n",
       "57509  A1RCGK44YXNBBB  Brendon Edwards         0/0   5.0 2007-05-18   \n",
       "57563  A1RCGK44YXNBBB  Brendon Edwards         6/6   4.0 2007-04-27   \n",
       "58946  A1RCGK44YXNBBB  Brendon Edwards         1/1   5.0 2007-05-18   \n",
       "59744  A1RCGK44YXNBBB  Brendon Edwards         0/0   5.0 2007-05-21   \n",
       "60861  A1RCGK44YXNBBB  Brendon Edwards         1/1   5.0 2007-05-06   \n",
       "61002  A1RCGK44YXNBBB  Brendon Edwards         1/1   5.0 2007-05-03   \n",
       "65126  A1RCGK44YXNBBB  Brendon Edwards         0/0   5.0 2007-05-11   \n",
       "65439  A1RCGK44YXNBBB  Brendon Edwards         0/0   5.0 2007-04-23   \n",
       "67373  A1RCGK44YXNBBB  Brendon Edwards         0/0   5.0 2007-05-08   \n",
       "67524  A1RCGK44YXNBBB  Brendon Edwards         0/0   5.0 2007-05-18   \n",
       "67628  A1RCGK44YXNBBB  Brendon Edwards         1/1   5.0 2007-05-07   \n",
       "68601  A1RCGK44YXNBBB  Brendon Edwards         0/0   5.0 2007-05-17   \n",
       "71422  A1RCGK44YXNBBB  Brendon Edwards         2/2   5.0 2007-05-03   \n",
       "73872  A1RCGK44YXNBBB  Brendon Edwards         3/3   5.0 2007-05-09   \n",
       "76200  A1RCGK44YXNBBB  Brendon Edwards         0/0   4.0 2007-04-27   \n",
       "78056  A1RCGK44YXNBBB  Brendon Edwards         0/1   5.0 2007-06-04   \n",
       "\n",
       "                                  summary  \\\n",
       "3493    great product highly recommended!   \n",
       "5212          Cheap and with good quality   \n",
       "6682                       Great headset!   \n",
       "9276             genuine Motorals battery   \n",
       "9289             genuine Motorals battery   \n",
       "9652       Works great with a great price   \n",
       "10682                          Works well   \n",
       "15221                          cool case!   \n",
       "17176                           Good buy!   \n",
       "23511                           Good buy!   \n",
       "25386                          Nice case!   \n",
       "26146                            Love it!   \n",
       "26853         Great product, great price!   \n",
       "29639                          Works well   \n",
       "31043                   good replacement!   \n",
       "36071                         Great deal!   \n",
       "36280                   Good crystal case   \n",
       "36453                           Good buy!   \n",
       "37310                         Good stylus   \n",
       "37319                     Great service !   \n",
       "40009          Great, inexpensive product   \n",
       "40983                       Great speaker   \n",
       "43583                         Great deal!   \n",
       "44685                        Good Charger   \n",
       "46626  nice product with reasonable price   \n",
       "47117                         A+ product!   \n",
       "53287                 Greatest item ever!   \n",
       "54526                         Recommended   \n",
       "57509        exactly what was advertised!   \n",
       "57563                   Excellent battery   \n",
       "58946         best case I 've ever owned!   \n",
       "59744                         Great cable   \n",
       "60861  Great deal for a genuine Motorola!   \n",
       "61002                        Works for me   \n",
       "65126                           It works!   \n",
       "65439                     Excellent cable   \n",
       "67373                            love it!   \n",
       "67524                        Works great!   \n",
       "67628                         All I need!   \n",
       "68601                   excellent product   \n",
       "71422        high quality with geat price   \n",
       "73872              Exactly what I wanted!   \n",
       "76200                           Good case   \n",
       "78056              Exactly what I wanted!   \n",
       "\n",
       "                                                    text type_of_review  year  \\\n",
       "3493   Easy to use, if you have a Samsung phone, this...       Positive  2007   \n",
       "5212   I lost the charge for my Motorola RAZR V3, and...       Positive  2007   \n",
       "6682   As usual, on time delivery and the product wor...       Positive  2007   \n",
       "9276   The battery arrived as promised and it has wor...       Positive  2007   \n",
       "9289   The battery arrived as promised and it has wor...       Positive  2007   \n",
       "9652   This is a good product with a great price. All...       Positive  2007   \n",
       "10682  I was very pleased with the price and quality ...       Positive  2007   \n",
       "15221  the case looks great and fits great and for th...       Positive  2007   \n",
       "17176  It is exactly an oem product.The seller eforci...       Positive  2007   \n",
       "23511  The item arrived in perfect condition. The cas...       Positive  2007   \n",
       "25386  The case arrived in a timely manner. It fits t...       Positive  2007   \n",
       "26146  The case arrived as promised and it is well fi...       Positive  2007   \n",
       "26853  The price was right, set up was easy. I was un...       Positive  2007   \n",
       "29639  It fits my Sony Ericsson W810 screen perfectly...       Positive  2007   \n",
       "31043  Battery is much better than the original that ...       Positive  2007   \n",
       "36071  This charger is excellent. Worked as advertise...       Positive  2007   \n",
       "36280  i bought this case for my mother. This item fi...       Positive  2007   \n",
       "36453  I like this crystal case. It is well made and ...       Positive  2007   \n",
       "37310  I bouthgt this item from Eforcity as the origi...       Positive  2007   \n",
       "37319  Battery is as ordered and shipping was timely....       Positive  2007   \n",
       "40009  I received in great time and it was as if brou...       Positive  2007   \n",
       "40983  This device paired right away with my Motorola...       Positive  2007   \n",
       "43583  Great and affordable car charger. Never a prob...       Positive  2007   \n",
       "44685  Since I spend a lot of time for travling in my...       Positive  2007   \n",
       "46626  The item arrived in perfect condition and it i...       Positive  2007   \n",
       "47117  Such a great pouch for my bluetooth headset. T...       Positive  2009   \n",
       "53287  This sync and charging cable is excellent! The...       Positive  2007   \n",
       "54526  Very durable good quality case. The case arriv...       Positive  2007   \n",
       "57509  It works great, till now no problems with it. ...       Positive  2007   \n",
       "57563  The battery works very well. After bringing it...       Positive  2007   \n",
       "58946  The seller Eforcity shipped out the same day, ...       Positive  2007   \n",
       "59744  This little thing is a saver - carry it in my ...       Positive  2007   \n",
       "60861  This is the original Motorola car charger, it ...       Positive  2007   \n",
       "61002  I have purchased this item from Eforcity and a...       Positive  2007   \n",
       "65126  It works, thats it. I tried other non apple iP...       Positive  2007   \n",
       "65439  The price is good and the cable is working wel...       Positive  2007   \n",
       "67373  It arrived in timely manner and it performs it...       Positive  2007   \n",
       "67524  Great and affordable headphone. Never a proble...       Positive  2007   \n",
       "67628  This is just what I was looking for. This case...       Positive  2007   \n",
       "68601  I have purchased from this company and am 100%...       Positive  2007   \n",
       "71422  Great sound quality (can hear and be heard), d...       Positive  2007   \n",
       "73872  If you prefer something more comfortable or al...       Positive  2007   \n",
       "76200  I bought this case for my father. He likes thi...       Positive  2007   \n",
       "78056  It works great, the seller eforcity shipped ou...       Positive  2007   \n",
       "\n",
       "       bad_rate  \n",
       "3493          0  \n",
       "5212          0  \n",
       "6682          0  \n",
       "9276          0  \n",
       "9289          0  \n",
       "9652          0  \n",
       "10682         0  \n",
       "15221         0  \n",
       "17176         0  \n",
       "23511         0  \n",
       "25386         0  \n",
       "26146         0  \n",
       "26853         0  \n",
       "29639         0  \n",
       "31043         0  \n",
       "36071         0  \n",
       "36280         0  \n",
       "36453         0  \n",
       "37310         0  \n",
       "37319         0  \n",
       "40009         0  \n",
       "40983         0  \n",
       "43583         0  \n",
       "44685         0  \n",
       "46626         0  \n",
       "47117         0  \n",
       "53287         0  \n",
       "54526         0  \n",
       "57509         0  \n",
       "57563         0  \n",
       "58946         0  \n",
       "59744         0  \n",
       "60861         0  \n",
       "61002         0  \n",
       "65126         0  \n",
       "65439         0  \n",
       "67373         0  \n",
       "67524         0  \n",
       "67628         0  \n",
       "68601         0  \n",
       "71422         0  \n",
       "73872         0  \n",
       "76200         0  \n",
       "78056         0  "
      ]
     },
     "execution_count": 67,
     "metadata": {},
     "output_type": "execute_result"
    }
   ],
   "source": [
    "df[df.userID == 'A1RCGK44YXNBBB']"
   ]
  },
  {
   "cell_type": "markdown",
   "metadata": {},
   "source": [
    "# Summary "
   ]
  },
  {
   "cell_type": "markdown",
   "metadata": {},
   "source": [
    "## I cleaned and preprocess the data for further analysis and tried to take as more as I could information from it. I've used basics algorithms and tried to show results as clear as possible but I think there is more to be done with this data. \n",
    "## I've extraced best selling products, most active users, comments the users considered the most useful for each product. Also I've divided comments by their rate and by random forest classification with nltk library. The data has a lot missing rows in Price column so I decided to remove it, also I removed rest of the missing data by rows, not columns. "
   ]
  }
 ],
 "metadata": {
  "kernelspec": {
   "display_name": "Python 3.7.5 64-bit",
   "language": "python",
   "name": "python37564bite3f5a88e788b447a9057f944fce707bf"
  },
  "language_info": {
   "codemirror_mode": {
    "name": "ipython",
    "version": 3
   },
   "file_extension": ".py",
   "mimetype": "text/x-python",
   "name": "python",
   "nbconvert_exporter": "python",
   "pygments_lexer": "ipython3",
   "version": "3.7.5"
  }
 },
 "nbformat": 4,
 "nbformat_minor": 2
}
